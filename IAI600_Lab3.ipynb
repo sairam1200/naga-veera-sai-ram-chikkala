{
 "cells": [
  {
   "cell_type": "markdown",
   "metadata": {},
   "source": [
    "# Setup "
   ]
  },
  {
   "cell_type": "markdown",
   "metadata": {},
   "source": [
    "### used the same code given in this lab"
   ]
  },
  {
   "cell_type": "code",
   "execution_count": 55,
   "metadata": {},
   "outputs": [],
   "source": [
    "# Python ≥3.5 is required\n",
    "import sys\n",
    "assert sys.version_info >= (3, 5)\n",
    "\n",
    "# Scikit-Learn ≥0.20 is required\n",
    "import sklearn\n",
    "assert sklearn.__version__ >= \"0.20\"\n",
    "\n",
    "# Common imports\n",
    "import numpy as np\n",
    "import os\n",
    "\n",
    "# To plot pretty figures\n",
    "%matplotlib inline\n",
    "import matplotlib as mpl\n",
    "import matplotlib.pyplot as plt\n",
    "mpl.rc('axes', labelsize=14)\n",
    "mpl.rc('xtick', labelsize=12)\n",
    "mpl.rc('ytick', labelsize=12)\n",
    "\n",
    "# Where to save the figures\n",
    "PROJECT_ROOT_DIR = \".\"\n",
    "CHAPTER_ID = \"end_to_end_project\"\n",
    "IMAGES_PATH = os.path.join(PROJECT_ROOT_DIR, \"images\", CHAPTER_ID)\n",
    "os.makedirs(IMAGES_PATH, exist_ok=True)\n",
    "\n",
    "def save_fig(fig_id, tight_layout=True, fig_extension=\"png\", resolution=300):\n",
    "    path = os.path.join(IMAGES_PATH, fig_id + \".\" + fig_extension)\n",
    "    print(\"Saving figure\", fig_id)\n",
    "    if tight_layout:\n",
    "        plt.tight_layout()\n",
    "    plt.savefig(path, format=fig_extension, dpi=resolution)"
   ]
  },
  {
   "cell_type": "markdown",
   "metadata": {},
   "source": [
    "# Get the Data"
   ]
  },
  {
   "cell_type": "markdown",
   "metadata": {},
   "source": [
    "## Download the Data"
   ]
  },
  {
   "cell_type": "code",
   "execution_count": 56,
   "metadata": {},
   "outputs": [],
   "source": [
    "import os\n",
    "import tarfile\n",
    "import urllib.request\n",
    "\n",
    "DOWNLOAD_ROOT = \"https://raw.githubusercontent.com/ageron/handson-ml2/master/\"\n",
    "HOUSING_PATH = os.path.join(\"datasets\", \"housing\")\n",
    "HOUSING_URL = DOWNLOAD_ROOT + \"datasets/housing/housing.tgz\"\n",
    "\n",
    "def fetch_housing_data(housing_url=HOUSING_URL, housing_path=HOUSING_PATH):\n",
    "    if not os.path.isdir(housing_path):\n",
    "        os.makedirs(housing_path)\n",
    "    tgz_path = os.path.join(housing_path, \"housing.tgz\")\n",
    "    urllib.request.urlretrieve(housing_url, tgz_path)\n",
    "    housing_tgz = tarfile.open(tgz_path)\n",
    "    housing_tgz.extractall(path=housing_path)\n",
    "    housing_tgz.close()"
   ]
  },
  {
   "cell_type": "code",
   "execution_count": 57,
   "metadata": {},
   "outputs": [
    {
     "name": "stderr",
     "output_type": "stream",
     "text": [
      "C:\\Users\\saira\\AppData\\Local\\Temp\\ipykernel_9388\\1387014147.py:15: DeprecationWarning: Python 3.14 will, by default, filter extracted tar archives and reject files or modify their metadata. Use the filter argument to control this behavior.\n",
      "  housing_tgz.extractall(path=housing_path)\n"
     ]
    }
   ],
   "source": [
    "fetch_housing_data()"
   ]
  },
  {
   "cell_type": "code",
   "execution_count": 58,
   "metadata": {},
   "outputs": [],
   "source": [
    "import pandas as pd\n",
    "\n",
    "def load_housing_data(housing_path=HOUSING_PATH):\n",
    "    csv_path = os.path.join(housing_path, \"housing.csv\")\n",
    "    return pd.read_csv(csv_path)"
   ]
  },
  {
   "cell_type": "markdown",
   "metadata": {},
   "source": [
    "## loading the dataset"
   ]
  },
  {
   "cell_type": "code",
   "execution_count": 59,
   "metadata": {},
   "outputs": [
    {
     "data": {
      "text/html": [
       "<div>\n",
       "<style scoped>\n",
       "    .dataframe tbody tr th:only-of-type {\n",
       "        vertical-align: middle;\n",
       "    }\n",
       "\n",
       "    .dataframe tbody tr th {\n",
       "        vertical-align: top;\n",
       "    }\n",
       "\n",
       "    .dataframe thead th {\n",
       "        text-align: right;\n",
       "    }\n",
       "</style>\n",
       "<table border=\"1\" class=\"dataframe\">\n",
       "  <thead>\n",
       "    <tr style=\"text-align: right;\">\n",
       "      <th></th>\n",
       "      <th>longitude</th>\n",
       "      <th>latitude</th>\n",
       "      <th>housing_median_age</th>\n",
       "      <th>total_rooms</th>\n",
       "      <th>total_bedrooms</th>\n",
       "      <th>population</th>\n",
       "      <th>households</th>\n",
       "      <th>median_income</th>\n",
       "      <th>median_house_value</th>\n",
       "      <th>ocean_proximity</th>\n",
       "    </tr>\n",
       "  </thead>\n",
       "  <tbody>\n",
       "    <tr>\n",
       "      <th>0</th>\n",
       "      <td>-122.23</td>\n",
       "      <td>37.88</td>\n",
       "      <td>41.0</td>\n",
       "      <td>880.0</td>\n",
       "      <td>129.0</td>\n",
       "      <td>322.0</td>\n",
       "      <td>126.0</td>\n",
       "      <td>8.3252</td>\n",
       "      <td>452600.0</td>\n",
       "      <td>NEAR BAY</td>\n",
       "    </tr>\n",
       "    <tr>\n",
       "      <th>1</th>\n",
       "      <td>-122.22</td>\n",
       "      <td>37.86</td>\n",
       "      <td>21.0</td>\n",
       "      <td>7099.0</td>\n",
       "      <td>1106.0</td>\n",
       "      <td>2401.0</td>\n",
       "      <td>1138.0</td>\n",
       "      <td>8.3014</td>\n",
       "      <td>358500.0</td>\n",
       "      <td>NEAR BAY</td>\n",
       "    </tr>\n",
       "    <tr>\n",
       "      <th>2</th>\n",
       "      <td>-122.24</td>\n",
       "      <td>37.85</td>\n",
       "      <td>52.0</td>\n",
       "      <td>1467.0</td>\n",
       "      <td>190.0</td>\n",
       "      <td>496.0</td>\n",
       "      <td>177.0</td>\n",
       "      <td>7.2574</td>\n",
       "      <td>352100.0</td>\n",
       "      <td>NEAR BAY</td>\n",
       "    </tr>\n",
       "    <tr>\n",
       "      <th>3</th>\n",
       "      <td>-122.25</td>\n",
       "      <td>37.85</td>\n",
       "      <td>52.0</td>\n",
       "      <td>1274.0</td>\n",
       "      <td>235.0</td>\n",
       "      <td>558.0</td>\n",
       "      <td>219.0</td>\n",
       "      <td>5.6431</td>\n",
       "      <td>341300.0</td>\n",
       "      <td>NEAR BAY</td>\n",
       "    </tr>\n",
       "    <tr>\n",
       "      <th>4</th>\n",
       "      <td>-122.25</td>\n",
       "      <td>37.85</td>\n",
       "      <td>52.0</td>\n",
       "      <td>1627.0</td>\n",
       "      <td>280.0</td>\n",
       "      <td>565.0</td>\n",
       "      <td>259.0</td>\n",
       "      <td>3.8462</td>\n",
       "      <td>342200.0</td>\n",
       "      <td>NEAR BAY</td>\n",
       "    </tr>\n",
       "  </tbody>\n",
       "</table>\n",
       "</div>"
      ],
      "text/plain": [
       "   longitude  latitude  housing_median_age  total_rooms  total_bedrooms  \\\n",
       "0    -122.23     37.88                41.0        880.0           129.0   \n",
       "1    -122.22     37.86                21.0       7099.0          1106.0   \n",
       "2    -122.24     37.85                52.0       1467.0           190.0   \n",
       "3    -122.25     37.85                52.0       1274.0           235.0   \n",
       "4    -122.25     37.85                52.0       1627.0           280.0   \n",
       "\n",
       "   population  households  median_income  median_house_value ocean_proximity  \n",
       "0       322.0       126.0         8.3252            452600.0        NEAR BAY  \n",
       "1      2401.0      1138.0         8.3014            358500.0        NEAR BAY  \n",
       "2       496.0       177.0         7.2574            352100.0        NEAR BAY  \n",
       "3       558.0       219.0         5.6431            341300.0        NEAR BAY  \n",
       "4       565.0       259.0         3.8462            342200.0        NEAR BAY  "
      ]
     },
     "execution_count": 59,
     "metadata": {},
     "output_type": "execute_result"
    }
   ],
   "source": [
    "housing = load_housing_data()\n",
    "housing.head()"
   ]
  },
  {
   "cell_type": "markdown",
   "metadata": {},
   "source": [
    "## Create a Test Set"
   ]
  },
  {
   "cell_type": "code",
   "execution_count": 60,
   "metadata": {},
   "outputs": [],
   "source": [
    "# to make this notebook's output identical at every run\n",
    "np.random.seed(42)"
   ]
  },
  {
   "cell_type": "code",
   "execution_count": 61,
   "metadata": {},
   "outputs": [],
   "source": [
    "import numpy as np\n",
    "\n",
    "# For illustration only. Sklearn has train_test_split()\n",
    "def split_train_test(data, test_ratio):\n",
    "    shuffled_indices = np.random.permutation(len(data))\n",
    "    test_set_size = int(len(data) * test_ratio)\n",
    "    test_indices = shuffled_indices[:test_set_size]\n",
    "    train_indices = shuffled_indices[test_set_size:]\n",
    "    return data.iloc[train_indices], data.iloc[test_indices]"
   ]
  },
  {
   "cell_type": "code",
   "execution_count": 62,
   "metadata": {},
   "outputs": [
    {
     "data": {
      "text/plain": [
       "16512"
      ]
     },
     "execution_count": 62,
     "metadata": {},
     "output_type": "execute_result"
    }
   ],
   "source": [
    "train_set, test_set = split_train_test(housing, 0.2)\n",
    "len(train_set)"
   ]
  },
  {
   "cell_type": "code",
   "execution_count": 63,
   "metadata": {},
   "outputs": [],
   "source": [
    "from zlib import crc32\n",
    "\n",
    "def test_set_check(identifier, test_ratio):\n",
    "    return crc32(np.int64(identifier)) & 0xffffffff < test_ratio * 2**32\n",
    "\n",
    "def split_train_test_by_id(data, test_ratio, id_column):\n",
    "    ids = data[id_column]\n",
    "    in_test_set = ids.apply(lambda id_: test_set_check(id_, test_ratio))\n",
    "    return data.loc[~in_test_set], data.loc[in_test_set]"
   ]
  },
  {
   "cell_type": "code",
   "execution_count": 64,
   "metadata": {},
   "outputs": [],
   "source": [
    "import hashlib\n",
    "\n",
    "def test_set_check(identifier, test_ratio, hash=hashlib.md5):\n",
    "    return hash(np.int64(identifier)).digest()[-1] < 256 * test_ratio"
   ]
  },
  {
   "cell_type": "code",
   "execution_count": 65,
   "metadata": {},
   "outputs": [],
   "source": [
    "def test_set_check(identifier, test_ratio, hash=hashlib.md5):\n",
    "    return bytearray(hash(np.int64(identifier)).digest())[-1] < 256 * test_ratio"
   ]
  },
  {
   "cell_type": "code",
   "execution_count": 66,
   "metadata": {},
   "outputs": [],
   "source": [
    "housing_with_id = housing.reset_index()   # adds an `index` column\n",
    "train_set, test_set = split_train_test_by_id(housing_with_id, 0.2, \"index\")"
   ]
  },
  {
   "cell_type": "code",
   "execution_count": 67,
   "metadata": {},
   "outputs": [],
   "source": [
    "housing_with_id[\"id\"] = housing[\"longitude\"] * 1000 + housing[\"latitude\"]\n",
    "train_set, test_set = split_train_test_by_id(housing_with_id, 0.2, \"id\")"
   ]
  },
  {
   "cell_type": "code",
   "execution_count": 68,
   "metadata": {},
   "outputs": [],
   "source": [
    "from sklearn.model_selection import train_test_split\n",
    "\n",
    "train_set, test_set = train_test_split(housing, test_size=0.2, random_state=42)"
   ]
  },
  {
   "cell_type": "code",
   "execution_count": 69,
   "metadata": {},
   "outputs": [
    {
     "data": {
      "text/plain": [
       "<Axes: >"
      ]
     },
     "execution_count": 69,
     "metadata": {},
     "output_type": "execute_result"
    },
    {
     "data": {
      "image/png": "[encoded data removed]",
      "text/plain": [
       "<Figure size 640x480 with 1 Axes>"
      ]
     },
     "metadata": {},
     "output_type": "display_data"
    }
   ],
   "source": [
    "housing[\"median_income\"].hist()"
   ]
  },
  {
   "cell_type": "code",
   "execution_count": 70,
   "metadata": {},
   "outputs": [],
   "source": [
    "housing[\"income_cat\"] = pd.cut(housing[\"median_income\"],\n",
    "                               bins=[0., 1.5, 3.0, 4.5, 6., np.inf],\n",
    "                               labels=[1, 2, 3, 4, 5])"
   ]
  },
  {
   "cell_type": "code",
   "execution_count": 71,
   "metadata": {},
   "outputs": [
    {
     "data": {
      "text/plain": [
       "income_cat\n",
       "3    7236\n",
       "2    6581\n",
       "4    3639\n",
       "5    2362\n",
       "1     822\n",
       "Name: count, dtype: int64"
      ]
     },
     "execution_count": 71,
     "metadata": {},
     "output_type": "execute_result"
    }
   ],
   "source": [
    "housing[\"income_cat\"].value_counts()"
   ]
  },
  {
   "cell_type": "code",
   "execution_count": 72,
   "metadata": {},
   "outputs": [
    {
     "data": {
      "text/plain": [
       "<Axes: >"
      ]
     },
     "execution_count": 72,
     "metadata": {},
     "output_type": "execute_result"
    },
    {
     "data": {
      "image/png": "[encoded data removed]",
      "text/plain": [
       "<Figure size 640x480 with 1 Axes>"
      ]
     },
     "metadata": {},
     "output_type": "display_data"
    }
   ],
   "source": [
    "housing[\"income_cat\"].hist()"
   ]
  },
  {
   "cell_type": "code",
   "execution_count": 73,
   "metadata": {},
   "outputs": [],
   "source": [
    "from sklearn.model_selection import StratifiedShuffleSplit\n",
    "\n",
    "split = StratifiedShuffleSplit(n_splits=1, test_size=0.2, random_state=42)\n",
    "for train_index, test_index in split.split(housing, housing[\"income_cat\"]):\n",
    "    strat_train_set = housing.loc[train_index]\n",
    "    strat_test_set = housing.loc[test_index]"
   ]
  },
  {
   "cell_type": "code",
   "execution_count": 74,
   "metadata": {},
   "outputs": [
    {
     "data": {
      "text/plain": [
       "income_cat\n",
       "3    0.350533\n",
       "2    0.318798\n",
       "4    0.176357\n",
       "5    0.114341\n",
       "1    0.039971\n",
       "Name: count, dtype: float64"
      ]
     },
     "execution_count": 74,
     "metadata": {},
     "output_type": "execute_result"
    }
   ],
   "source": [
    "strat_test_set[\"income_cat\"].value_counts() / len(strat_test_set)"
   ]
  },
  {
   "cell_type": "code",
   "execution_count": 75,
   "metadata": {},
   "outputs": [
    {
     "data": {
      "text/plain": [
       "income_cat\n",
       "3    0.350581\n",
       "2    0.318847\n",
       "4    0.176308\n",
       "5    0.114438\n",
       "1    0.039826\n",
       "Name: count, dtype: float64"
      ]
     },
     "execution_count": 75,
     "metadata": {},
     "output_type": "execute_result"
    }
   ],
   "source": [
    "housing[\"income_cat\"].value_counts() / len(housing)"
   ]
  },
  {
   "cell_type": "code",
   "execution_count": 76,
   "metadata": {},
   "outputs": [],
   "source": [
    "def income_cat_proportions(data):\n",
    "    return data[\"income_cat\"].value_counts() / len(data)\n",
    "\n",
    "train_set, test_set = train_test_split(housing, test_size=0.2, random_state=42)\n",
    "\n",
    "compare_props = pd.DataFrame({\n",
    "    \"Overall\": income_cat_proportions(housing),\n",
    "    \"Stratified\": income_cat_proportions(strat_test_set),\n",
    "    \"Random\": income_cat_proportions(test_set),\n",
    "}).sort_index()\n",
    "compare_props[\"Rand. %error\"] = 100 * compare_props[\"Random\"] / compare_props[\"Overall\"] - 100\n",
    "compare_props[\"Strat. %error\"] = 100 * compare_props[\"Stratified\"] / compare_props[\"Overall\"] - 100"
   ]
  },
  {
   "cell_type": "code",
   "execution_count": 77,
   "metadata": {},
   "outputs": [],
   "source": [
    "for set_ in (strat_train_set, strat_test_set):\n",
    "    set_.drop(\"income_cat\", axis=1, inplace=True)"
   ]
  },
  {
   "cell_type": "markdown",
   "metadata": {},
   "source": [
    "## Strat train set into housing"
   ]
  },
  {
   "cell_type": "code",
   "execution_count": 78,
   "metadata": {},
   "outputs": [],
   "source": [
    "housing = strat_train_set.copy()"
   ]
  },
  {
   "cell_type": "markdown",
   "metadata": {},
   "source": [
    "# Prepare the Data for Machine Learning Algorithms"
   ]
  },
  {
   "cell_type": "code",
   "execution_count": 79,
   "metadata": {},
   "outputs": [],
   "source": [
    "housing = strat_train_set.drop(\"median_house_value\", axis=1) # drop labels for training set\n",
    "housing_labels = strat_train_set[\"median_house_value\"].copy()"
   ]
  },
  {
   "cell_type": "markdown",
   "metadata": {},
   "source": [
    "## Data Cleaning"
   ]
  },
  {
   "cell_type": "code",
   "execution_count": 80,
   "metadata": {},
   "outputs": [
    {
     "data": {
      "text/html": [
       "<div>\n",
       "<style scoped>\n",
       "    .dataframe tbody tr th:only-of-type {\n",
       "        vertical-align: middle;\n",
       "    }\n",
       "\n",
       "    .dataframe tbody tr th {\n",
       "        vertical-align: top;\n",
       "    }\n",
       "\n",
       "    .dataframe thead th {\n",
       "        text-align: right;\n",
       "    }\n",
       "</style>\n",
       "<table border=\"1\" class=\"dataframe\">\n",
       "  <thead>\n",
       "    <tr style=\"text-align: right;\">\n",
       "      <th></th>\n",
       "      <th>longitude</th>\n",
       "      <th>latitude</th>\n",
       "      <th>housing_median_age</th>\n",
       "      <th>total_rooms</th>\n",
       "      <th>total_bedrooms</th>\n",
       "      <th>population</th>\n",
       "      <th>households</th>\n",
       "      <th>median_income</th>\n",
       "      <th>ocean_proximity</th>\n",
       "    </tr>\n",
       "  </thead>\n",
       "  <tbody>\n",
       "    <tr>\n",
       "      <th>1606</th>\n",
       "      <td>-122.08</td>\n",
       "      <td>37.88</td>\n",
       "      <td>26.0</td>\n",
       "      <td>2947.0</td>\n",
       "      <td>NaN</td>\n",
       "      <td>825.0</td>\n",
       "      <td>626.0</td>\n",
       "      <td>2.9330</td>\n",
       "      <td>NEAR BAY</td>\n",
       "    </tr>\n",
       "    <tr>\n",
       "      <th>10915</th>\n",
       "      <td>-117.87</td>\n",
       "      <td>33.73</td>\n",
       "      <td>45.0</td>\n",
       "      <td>2264.0</td>\n",
       "      <td>NaN</td>\n",
       "      <td>1970.0</td>\n",
       "      <td>499.0</td>\n",
       "      <td>3.4193</td>\n",
       "      <td>&lt;1H OCEAN</td>\n",
       "    </tr>\n",
       "    <tr>\n",
       "      <th>19150</th>\n",
       "      <td>-122.70</td>\n",
       "      <td>38.35</td>\n",
       "      <td>14.0</td>\n",
       "      <td>2313.0</td>\n",
       "      <td>NaN</td>\n",
       "      <td>954.0</td>\n",
       "      <td>397.0</td>\n",
       "      <td>3.7813</td>\n",
       "      <td>&lt;1H OCEAN</td>\n",
       "    </tr>\n",
       "    <tr>\n",
       "      <th>4186</th>\n",
       "      <td>-118.23</td>\n",
       "      <td>34.13</td>\n",
       "      <td>48.0</td>\n",
       "      <td>1308.0</td>\n",
       "      <td>NaN</td>\n",
       "      <td>835.0</td>\n",
       "      <td>294.0</td>\n",
       "      <td>4.2891</td>\n",
       "      <td>&lt;1H OCEAN</td>\n",
       "    </tr>\n",
       "    <tr>\n",
       "      <th>16885</th>\n",
       "      <td>-122.40</td>\n",
       "      <td>37.58</td>\n",
       "      <td>26.0</td>\n",
       "      <td>3281.0</td>\n",
       "      <td>NaN</td>\n",
       "      <td>1145.0</td>\n",
       "      <td>480.0</td>\n",
       "      <td>6.3580</td>\n",
       "      <td>NEAR OCEAN</td>\n",
       "    </tr>\n",
       "  </tbody>\n",
       "</table>\n",
       "</div>"
      ],
      "text/plain": [
       "       longitude  latitude  housing_median_age  total_rooms  total_bedrooms  \\\n",
       "1606     -122.08     37.88                26.0       2947.0             NaN   \n",
       "10915    -117.87     33.73                45.0       2264.0             NaN   \n",
       "19150    -122.70     38.35                14.0       2313.0             NaN   \n",
       "4186     -118.23     34.13                48.0       1308.0             NaN   \n",
       "16885    -122.40     37.58                26.0       3281.0             NaN   \n",
       "\n",
       "       population  households  median_income ocean_proximity  \n",
       "1606        825.0       626.0         2.9330        NEAR BAY  \n",
       "10915      1970.0       499.0         3.4193       <1H OCEAN  \n",
       "19150       954.0       397.0         3.7813       <1H OCEAN  \n",
       "4186        835.0       294.0         4.2891       <1H OCEAN  \n",
       "16885      1145.0       480.0         6.3580      NEAR OCEAN  "
      ]
     },
     "execution_count": 80,
     "metadata": {},
     "output_type": "execute_result"
    }
   ],
   "source": [
    "sample_incomplete_rows = housing[housing.isnull().any(axis=1)].head()\n",
    "sample_incomplete_rows"
   ]
  },
  {
   "cell_type": "code",
   "execution_count": 81,
   "metadata": {},
   "outputs": [
    {
     "data": {
      "text/html": [
       "<div>\n",
       "<style scoped>\n",
       "    .dataframe tbody tr th:only-of-type {\n",
       "        vertical-align: middle;\n",
       "    }\n",
       "\n",
       "    .dataframe tbody tr th {\n",
       "        vertical-align: top;\n",
       "    }\n",
       "\n",
       "    .dataframe thead th {\n",
       "        text-align: right;\n",
       "    }\n",
       "</style>\n",
       "<table border=\"1\" class=\"dataframe\">\n",
       "  <thead>\n",
       "    <tr style=\"text-align: right;\">\n",
       "      <th></th>\n",
       "      <th>longitude</th>\n",
       "      <th>latitude</th>\n",
       "      <th>housing_median_age</th>\n",
       "      <th>total_rooms</th>\n",
       "      <th>total_bedrooms</th>\n",
       "      <th>population</th>\n",
       "      <th>households</th>\n",
       "      <th>median_income</th>\n",
       "      <th>ocean_proximity</th>\n",
       "    </tr>\n",
       "  </thead>\n",
       "  <tbody>\n",
       "  </tbody>\n",
       "</table>\n",
       "</div>"
      ],
      "text/plain": [
       "Empty DataFrame\n",
       "Columns: [longitude, latitude, housing_median_age, total_rooms, total_bedrooms, population, households, median_income, ocean_proximity]\n",
       "Index: []"
      ]
     },
     "execution_count": 81,
     "metadata": {},
     "output_type": "execute_result"
    }
   ],
   "source": [
    "sample_incomplete_rows.dropna(subset=[\"total_bedrooms\"])    "
   ]
  },
  {
   "cell_type": "code",
   "execution_count": 82,
   "metadata": {},
   "outputs": [],
   "source": [
    "from sklearn.impute import SimpleImputer\n",
    "imputer = SimpleImputer(strategy=\"median\")"
   ]
  },
  {
   "cell_type": "markdown",
   "metadata": {},
   "source": [
    "Remove the text attribute because median can only be calculated on numerical attributes:"
   ]
  },
  {
   "cell_type": "code",
   "execution_count": 83,
   "metadata": {},
   "outputs": [],
   "source": [
    "housing_num = housing.drop(\"ocean_proximity\", axis=1)\n",
    "# alternatively: housing_num = housing.select_dtypes(include=[np.number])"
   ]
  },
  {
   "cell_type": "code",
   "execution_count": 84,
   "metadata": {},
   "outputs": [
    {
     "data": {
      "text/html": [
       "<style>#sk-container-id-2 {\n",
       "  /* Definition of color scheme common for light and dark mode */\n",
       "  --sklearn-color-text: black;\n",
       "  --sklearn-color-line: gray;\n",
       "  /* Definition of color scheme for unfitted estimators */\n",
       "  --sklearn-color-unfitted-level-0: #fff5e6;\n",
       "  --sklearn-color-unfitted-level-1: #f6e4d2;\n",
       "  --sklearn-color-unfitted-level-2: #ffe0b3;\n",
       "  --sklearn-color-unfitted-level-3: chocolate;\n",
       "  /* Definition of color scheme for fitted estimators */\n",
       "  --sklearn-color-fitted-level-0: #f0f8ff;\n",
       "  --sklearn-color-fitted-level-1: #d4ebff;\n",
       "  --sklearn-color-fitted-level-2: #b3dbfd;\n",
       "  --sklearn-color-fitted-level-3: cornflowerblue;\n",
       "\n",
       "  /* Specific color for light theme */\n",
       "  --sklearn-color-text-on-default-background: var(--sg-text-color, var(--theme-code-foreground, var(--jp-content-font-color1, black)));\n",
       "  --sklearn-color-background: var(--sg-background-color, var(--theme-background, var(--jp-layout-color0, white)));\n",
       "  --sklearn-color-border-box: var(--sg-text-color, var(--theme-code-foreground, var(--jp-content-font-color1, black)));\n",
       "  --sklearn-color-icon: #696969;\n",
       "\n",
       "  @media (prefers-color-scheme: dark) {\n",
       "    /* Redefinition of color scheme for dark theme */\n",
       "    --sklearn-color-text-on-default-background: var(--sg-text-color, var(--theme-code-foreground, var(--jp-content-font-color1, white)));\n",
       "    --sklearn-color-background: var(--sg-background-color, var(--theme-background, var(--jp-layout-color0, #111)));\n",
       "    --sklearn-color-border-box: var(--sg-text-color, var(--theme-code-foreground, var(--jp-content-font-color1, white)));\n",
       "    --sklearn-color-icon: #878787;\n",
       "  }\n",
       "}\n",
       "\n",
       "#sk-container-id-2 {\n",
       "  color: var(--sklearn-color-text);\n",
       "}\n",
       "\n",
       "#sk-container-id-2 pre {\n",
       "  padding: 0;\n",
       "}\n",
       "\n",
       "#sk-container-id-2 input.sk-hidden--visually {\n",
       "  border: 0;\n",
       "  clip: rect(1px 1px 1px 1px);\n",
       "  clip: rect(1px, 1px, 1px, 1px);\n",
       "  height: 1px;\n",
       "  margin: -1px;\n",
       "  overflow: hidden;\n",
       "  padding: 0;\n",
       "  position: absolute;\n",
       "  width: 1px;\n",
       "}\n",
       "\n",
       "#sk-container-id-2 div.sk-dashed-wrapped {\n",
       "  border: 1px dashed var(--sklearn-color-line);\n",
       "  margin: 0 0.4em 0.5em 0.4em;\n",
       "  box-sizing: border-box;\n",
       "  padding-bottom: 0.4em;\n",
       "  background-color: var(--sklearn-color-background);\n",
       "}\n",
       "\n",
       "#sk-container-id-2 div.sk-container {\n",
       "  /* jupyter's `normalize.less` sets `[hidden] { display: none; }`\n",
       "     but bootstrap.min.css set `[hidden] { display: none !important; }`\n",
       "     so we also need the `!important` here to be able to override the\n",
       "     default hidden behavior on the sphinx rendered scikit-learn.org.\n",
       "     See: https://github.com/scikit-learn/scikit-learn/issues/21755 */\n",
       "  display: inline-block !important;\n",
       "  position: relative;\n",
       "}\n",
       "\n",
       "#sk-container-id-2 div.sk-text-repr-fallback {\n",
       "  display: none;\n",
       "}\n",
       "\n",
       "div.sk-parallel-item,\n",
       "div.sk-serial,\n",
       "div.sk-item {\n",
       "  /* draw centered vertical line to link estimators */\n",
       "  background-image: linear-gradient(var(--sklearn-color-text-on-default-background), var(--sklearn-color-text-on-default-background));\n",
       "  background-size: 2px 100%;\n",
       "  background-repeat: no-repeat;\n",
       "  background-position: center center;\n",
       "}\n",
       "\n",
       "/* Parallel-specific style estimator block */\n",
       "\n",
       "#sk-container-id-2 div.sk-parallel-item::after {\n",
       "  content: \"\";\n",
       "  width: 100%;\n",
       "  border-bottom: 2px solid var(--sklearn-color-text-on-default-background);\n",
       "  flex-grow: 1;\n",
       "}\n",
       "\n",
       "#sk-container-id-2 div.sk-parallel {\n",
       "  display: flex;\n",
       "  align-items: stretch;\n",
       "  justify-content: center;\n",
       "  background-color: var(--sklearn-color-background);\n",
       "  position: relative;\n",
       "}\n",
       "\n",
       "#sk-container-id-2 div.sk-parallel-item {\n",
       "  display: flex;\n",
       "  flex-direction: column;\n",
       "}\n",
       "\n",
       "#sk-container-id-2 div.sk-parallel-item:first-child::after {\n",
       "  align-self: flex-end;\n",
       "  width: 50%;\n",
       "}\n",
       "\n",
       "#sk-container-id-2 div.sk-parallel-item:last-child::after {\n",
       "  align-self: flex-start;\n",
       "  width: 50%;\n",
       "}\n",
       "\n",
       "#sk-container-id-2 div.sk-parallel-item:only-child::after {\n",
       "  width: 0;\n",
       "}\n",
       "\n",
       "/* Serial-specific style estimator block */\n",
       "\n",
       "#sk-container-id-2 div.sk-serial {\n",
       "  display: flex;\n",
       "  flex-direction: column;\n",
       "  align-items: center;\n",
       "  background-color: var(--sklearn-color-background);\n",
       "  padding-right: 1em;\n",
       "  padding-left: 1em;\n",
       "}\n",
       "\n",
       "\n",
       "/* Toggleable style: style used for estimator/Pipeline/ColumnTransformer box that is\n",
       "clickable and can be expanded/collapsed.\n",
       "- Pipeline and ColumnTransformer use this feature and define the default style\n",
       "- Estimators will overwrite some part of the style using the `sk-estimator` class\n",
       "*/\n",
       "\n",
       "/* Pipeline and ColumnTransformer style (default) */\n",
       "\n",
       "#sk-container-id-2 div.sk-toggleable {\n",
       "  /* Default theme specific background. It is overwritten whether we have a\n",
       "  specific estimator or a Pipeline/ColumnTransformer */\n",
       "  background-color: var(--sklearn-color-background);\n",
       "}\n",
       "\n",
       "/* Toggleable label */\n",
       "#sk-container-id-2 label.sk-toggleable__label {\n",
       "  cursor: pointer;\n",
       "  display: block;\n",
       "  width: 100%;\n",
       "  margin-bottom: 0;\n",
       "  padding: 0.5em;\n",
       "  box-sizing: border-box;\n",
       "  text-align: center;\n",
       "}\n",
       "\n",
       "#sk-container-id-2 label.sk-toggleable__label-arrow:before {\n",
       "  /* Arrow on the left of the label */\n",
       "  content: \"▸\";\n",
       "  float: left;\n",
       "  margin-right: 0.25em;\n",
       "  color: var(--sklearn-color-icon);\n",
       "}\n",
       "\n",
       "#sk-container-id-2 label.sk-toggleable__label-arrow:hover:before {\n",
       "  color: var(--sklearn-color-text);\n",
       "}\n",
       "\n",
       "/* Toggleable content - dropdown */\n",
       "\n",
       "#sk-container-id-2 div.sk-toggleable__content {\n",
       "  max-height: 0;\n",
       "  max-width: 0;\n",
       "  overflow: hidden;\n",
       "  text-align: left;\n",
       "  /* unfitted */\n",
       "  background-color: var(--sklearn-color-unfitted-level-0);\n",
       "}\n",
       "\n",
       "#sk-container-id-2 div.sk-toggleable__content.fitted {\n",
       "  /* fitted */\n",
       "  background-color: var(--sklearn-color-fitted-level-0);\n",
       "}\n",
       "\n",
       "#sk-container-id-2 div.sk-toggleable__content pre {\n",
       "  margin: 0.2em;\n",
       "  border-radius: 0.25em;\n",
       "  color: var(--sklearn-color-text);\n",
       "  /* unfitted */\n",
       "  background-color: var(--sklearn-color-unfitted-level-0);\n",
       "}\n",
       "\n",
       "#sk-container-id-2 div.sk-toggleable__content.fitted pre {\n",
       "  /* unfitted */\n",
       "  background-color: var(--sklearn-color-fitted-level-0);\n",
       "}\n",
       "\n",
       "#sk-container-id-2 input.sk-toggleable__control:checked~div.sk-toggleable__content {\n",
       "  /* Expand drop-down */\n",
       "  max-height: 200px;\n",
       "  max-width: 100%;\n",
       "  overflow: auto;\n",
       "}\n",
       "\n",
       "#sk-container-id-2 input.sk-toggleable__control:checked~label.sk-toggleable__label-arrow:before {\n",
       "  content: \"▾\";\n",
       "}\n",
       "\n",
       "/* Pipeline/ColumnTransformer-specific style */\n",
       "\n",
       "#sk-container-id-2 div.sk-label input.sk-toggleable__control:checked~label.sk-toggleable__label {\n",
       "  color: var(--sklearn-color-text);\n",
       "  background-color: var(--sklearn-color-unfitted-level-2);\n",
       "}\n",
       "\n",
       "#sk-container-id-2 div.sk-label.fitted input.sk-toggleable__control:checked~label.sk-toggleable__label {\n",
       "  background-color: var(--sklearn-color-fitted-level-2);\n",
       "}\n",
       "\n",
       "/* Estimator-specific style */\n",
       "\n",
       "/* Colorize estimator box */\n",
       "#sk-container-id-2 div.sk-estimator input.sk-toggleable__control:checked~label.sk-toggleable__label {\n",
       "  /* unfitted */\n",
       "  background-color: var(--sklearn-color-unfitted-level-2);\n",
       "}\n",
       "\n",
       "#sk-container-id-2 div.sk-estimator.fitted input.sk-toggleable__control:checked~label.sk-toggleable__label {\n",
       "  /* fitted */\n",
       "  background-color: var(--sklearn-color-fitted-level-2);\n",
       "}\n",
       "\n",
       "#sk-container-id-2 div.sk-label label.sk-toggleable__label,\n",
       "#sk-container-id-2 div.sk-label label {\n",
       "  /* The background is the default theme color */\n",
       "  color: var(--sklearn-color-text-on-default-background);\n",
       "}\n",
       "\n",
       "/* On hover, darken the color of the background */\n",
       "#sk-container-id-2 div.sk-label:hover label.sk-toggleable__label {\n",
       "  color: var(--sklearn-color-text);\n",
       "  background-color: var(--sklearn-color-unfitted-level-2);\n",
       "}\n",
       "\n",
       "/* Label box, darken color on hover, fitted */\n",
       "#sk-container-id-2 div.sk-label.fitted:hover label.sk-toggleable__label.fitted {\n",
       "  color: var(--sklearn-color-text);\n",
       "  background-color: var(--sklearn-color-fitted-level-2);\n",
       "}\n",
       "\n",
       "/* Estimator label */\n",
       "\n",
       "#sk-container-id-2 div.sk-label label {\n",
       "  font-family: monospace;\n",
       "  font-weight: bold;\n",
       "  display: inline-block;\n",
       "  line-height: 1.2em;\n",
       "}\n",
       "\n",
       "#sk-container-id-2 div.sk-label-container {\n",
       "  text-align: center;\n",
       "}\n",
       "\n",
       "/* Estimator-specific */\n",
       "#sk-container-id-2 div.sk-estimator {\n",
       "  font-family: monospace;\n",
       "  border: 1px dotted var(--sklearn-color-border-box);\n",
       "  border-radius: 0.25em;\n",
       "  box-sizing: border-box;\n",
       "  margin-bottom: 0.5em;\n",
       "  /* unfitted */\n",
       "  background-color: var(--sklearn-color-unfitted-level-0);\n",
       "}\n",
       "\n",
       "#sk-container-id-2 div.sk-estimator.fitted {\n",
       "  /* fitted */\n",
       "  background-color: var(--sklearn-color-fitted-level-0);\n",
       "}\n",
       "\n",
       "/* on hover */\n",
       "#sk-container-id-2 div.sk-estimator:hover {\n",
       "  /* unfitted */\n",
       "  background-color: var(--sklearn-color-unfitted-level-2);\n",
       "}\n",
       "\n",
       "#sk-container-id-2 div.sk-estimator.fitted:hover {\n",
       "  /* fitted */\n",
       "  background-color: var(--sklearn-color-fitted-level-2);\n",
       "}\n",
       "\n",
       "/* Specification for estimator info (e.g. \"i\" and \"?\") */\n",
       "\n",
       "/* Common style for \"i\" and \"?\" */\n",
       "\n",
       ".sk-estimator-doc-link,\n",
       "a:link.sk-estimator-doc-link,\n",
       "a:visited.sk-estimator-doc-link {\n",
       "  float: right;\n",
       "  font-size: smaller;\n",
       "  line-height: 1em;\n",
       "  font-family: monospace;\n",
       "  background-color: var(--sklearn-color-background);\n",
       "  border-radius: 1em;\n",
       "  height: 1em;\n",
       "  width: 1em;\n",
       "  text-decoration: none !important;\n",
       "  margin-left: 1ex;\n",
       "  /* unfitted */\n",
       "  border: var(--sklearn-color-unfitted-level-1) 1pt solid;\n",
       "  color: var(--sklearn-color-unfitted-level-1);\n",
       "}\n",
       "\n",
       ".sk-estimator-doc-link.fitted,\n",
       "a:link.sk-estimator-doc-link.fitted,\n",
       "a:visited.sk-estimator-doc-link.fitted {\n",
       "  /* fitted */\n",
       "  border: var(--sklearn-color-fitted-level-1) 1pt solid;\n",
       "  color: var(--sklearn-color-fitted-level-1);\n",
       "}\n",
       "\n",
       "/* On hover */\n",
       "div.sk-estimator:hover .sk-estimator-doc-link:hover,\n",
       ".sk-estimator-doc-link:hover,\n",
       "div.sk-label-container:hover .sk-estimator-doc-link:hover,\n",
       ".sk-estimator-doc-link:hover {\n",
       "  /* unfitted */\n",
       "  background-color: var(--sklearn-color-unfitted-level-3);\n",
       "  color: var(--sklearn-color-background);\n",
       "  text-decoration: none;\n",
       "}\n",
       "\n",
       "div.sk-estimator.fitted:hover .sk-estimator-doc-link.fitted:hover,\n",
       ".sk-estimator-doc-link.fitted:hover,\n",
       "div.sk-label-container:hover .sk-estimator-doc-link.fitted:hover,\n",
       ".sk-estimator-doc-link.fitted:hover {\n",
       "  /* fitted */\n",
       "  background-color: var(--sklearn-color-fitted-level-3);\n",
       "  color: var(--sklearn-color-background);\n",
       "  text-decoration: none;\n",
       "}\n",
       "\n",
       "/* Span, style for the box shown on hovering the info icon */\n",
       ".sk-estimator-doc-link span {\n",
       "  display: none;\n",
       "  z-index: 9999;\n",
       "  position: relative;\n",
       "  font-weight: normal;\n",
       "  right: .2ex;\n",
       "  padding: .5ex;\n",
       "  margin: .5ex;\n",
       "  width: min-content;\n",
       "  min-width: 20ex;\n",
       "  max-width: 50ex;\n",
       "  color: var(--sklearn-color-text);\n",
       "  box-shadow: 2pt 2pt 4pt #999;\n",
       "  /* unfitted */\n",
       "  background: var(--sklearn-color-unfitted-level-0);\n",
       "  border: .5pt solid var(--sklearn-color-unfitted-level-3);\n",
       "}\n",
       "\n",
       ".sk-estimator-doc-link.fitted span {\n",
       "  /* fitted */\n",
       "  background: var(--sklearn-color-fitted-level-0);\n",
       "  border: var(--sklearn-color-fitted-level-3);\n",
       "}\n",
       "\n",
       ".sk-estimator-doc-link:hover span {\n",
       "  display: block;\n",
       "}\n",
       "\n",
       "/* \"?\"-specific style due to the `<a>` HTML tag */\n",
       "\n",
       "#sk-container-id-2 a.estimator_doc_link {\n",
       "  float: right;\n",
       "  font-size: 1rem;\n",
       "  line-height: 1em;\n",
       "  font-family: monospace;\n",
       "  background-color: var(--sklearn-color-background);\n",
       "  border-radius: 1rem;\n",
       "  height: 1rem;\n",
       "  width: 1rem;\n",
       "  text-decoration: none;\n",
       "  /* unfitted */\n",
       "  color: var(--sklearn-color-unfitted-level-1);\n",
       "  border: var(--sklearn-color-unfitted-level-1) 1pt solid;\n",
       "}\n",
       "\n",
       "#sk-container-id-2 a.estimator_doc_link.fitted {\n",
       "  /* fitted */\n",
       "  border: var(--sklearn-color-fitted-level-1) 1pt solid;\n",
       "  color: var(--sklearn-color-fitted-level-1);\n",
       "}\n",
       "\n",
       "/* On hover */\n",
       "#sk-container-id-2 a.estimator_doc_link:hover {\n",
       "  /* unfitted */\n",
       "  background-color: var(--sklearn-color-unfitted-level-3);\n",
       "  color: var(--sklearn-color-background);\n",
       "  text-decoration: none;\n",
       "}\n",
       "\n",
       "#sk-container-id-2 a.estimator_doc_link.fitted:hover {\n",
       "  /* fitted */\n",
       "  background-color: var(--sklearn-color-fitted-level-3);\n",
       "}\n",
       "</style><div id=\"sk-container-id-2\" class=\"sk-top-container\"><div class=\"sk-text-repr-fallback\"><pre>SimpleImputer(strategy=&#x27;median&#x27;)</pre><b>In a Jupyter environment, please rerun this cell to show the HTML representation or trust the notebook. <br />On GitHub, the HTML representation is unable to render, please try loading this page with nbviewer.org.</b></div><div class=\"sk-container\" hidden><div class=\"sk-item\"><div class=\"sk-estimator fitted sk-toggleable\"><input class=\"sk-toggleable__control sk-hidden--visually\" id=\"sk-estimator-id-2\" type=\"checkbox\" checked><label for=\"sk-estimator-id-2\" class=\"sk-toggleable__label fitted sk-toggleable__label-arrow fitted\">&nbsp;&nbsp;SimpleImputer<a class=\"sk-estimator-doc-link fitted\" rel=\"noreferrer\" target=\"_blank\" href=\"https://scikit-learn.org/1.5/modules/generated/sklearn.impute.SimpleImputer.html\">?<span>Documentation for SimpleImputer</span></a><span class=\"sk-estimator-doc-link fitted\">i<span>Fitted</span></span></label><div class=\"sk-toggleable__content fitted\"><pre>SimpleImputer(strategy=&#x27;median&#x27;)</pre></div> </div></div></div></div>"
      ],
      "text/plain": [
       "SimpleImputer(strategy='median')"
      ]
     },
     "execution_count": 84,
     "metadata": {},
     "output_type": "execute_result"
    }
   ],
   "source": [
    "imputer.fit(housing_num)"
   ]
  },
  {
   "cell_type": "code",
   "execution_count": 85,
   "metadata": {},
   "outputs": [
    {
     "data": {
      "text/plain": [
       "array([-118.51   ,   34.26   ,   29.     , 2119.     ,  433.     ,\n",
       "       1164.     ,  408.     ,    3.54155])"
      ]
     },
     "execution_count": 85,
     "metadata": {},
     "output_type": "execute_result"
    }
   ],
   "source": [
    "imputer.statistics_"
   ]
  },
  {
   "cell_type": "markdown",
   "metadata": {},
   "source": [
    "Check that this is the same as manually computing the median of each attribute:"
   ]
  },
  {
   "cell_type": "code",
   "execution_count": 86,
   "metadata": {},
   "outputs": [
    {
     "data": {
      "text/plain": [
       "array([-118.51   ,   34.26   ,   29.     , 2119.     ,  433.     ,\n",
       "       1164.     ,  408.     ,    3.54155])"
      ]
     },
     "execution_count": 86,
     "metadata": {},
     "output_type": "execute_result"
    }
   ],
   "source": [
    "housing_num.median().values"
   ]
  },
  {
   "cell_type": "markdown",
   "metadata": {},
   "source": [
    "Transform the training set:"
   ]
  },
  {
   "cell_type": "code",
   "execution_count": 87,
   "metadata": {},
   "outputs": [],
   "source": [
    "X = imputer.transform(housing_num)"
   ]
  },
  {
   "cell_type": "code",
   "execution_count": 88,
   "metadata": {},
   "outputs": [],
   "source": [
    "housing_tr = pd.DataFrame(X, columns=housing_num.columns,\n",
    "                          index=housing.index)"
   ]
  },
  {
   "cell_type": "code",
   "execution_count": 89,
   "metadata": {},
   "outputs": [
    {
     "data": {
      "text/html": [
       "<div>\n",
       "<style scoped>\n",
       "    .dataframe tbody tr th:only-of-type {\n",
       "        vertical-align: middle;\n",
       "    }\n",
       "\n",
       "    .dataframe tbody tr th {\n",
       "        vertical-align: top;\n",
       "    }\n",
       "\n",
       "    .dataframe thead th {\n",
       "        text-align: right;\n",
       "    }\n",
       "</style>\n",
       "<table border=\"1\" class=\"dataframe\">\n",
       "  <thead>\n",
       "    <tr style=\"text-align: right;\">\n",
       "      <th></th>\n",
       "      <th>longitude</th>\n",
       "      <th>latitude</th>\n",
       "      <th>housing_median_age</th>\n",
       "      <th>total_rooms</th>\n",
       "      <th>total_bedrooms</th>\n",
       "      <th>population</th>\n",
       "      <th>households</th>\n",
       "      <th>median_income</th>\n",
       "    </tr>\n",
       "  </thead>\n",
       "  <tbody>\n",
       "    <tr>\n",
       "      <th>1606</th>\n",
       "      <td>-122.08</td>\n",
       "      <td>37.88</td>\n",
       "      <td>26.0</td>\n",
       "      <td>2947.0</td>\n",
       "      <td>433.0</td>\n",
       "      <td>825.0</td>\n",
       "      <td>626.0</td>\n",
       "      <td>2.9330</td>\n",
       "    </tr>\n",
       "    <tr>\n",
       "      <th>10915</th>\n",
       "      <td>-117.87</td>\n",
       "      <td>33.73</td>\n",
       "      <td>45.0</td>\n",
       "      <td>2264.0</td>\n",
       "      <td>433.0</td>\n",
       "      <td>1970.0</td>\n",
       "      <td>499.0</td>\n",
       "      <td>3.4193</td>\n",
       "    </tr>\n",
       "    <tr>\n",
       "      <th>19150</th>\n",
       "      <td>-122.70</td>\n",
       "      <td>38.35</td>\n",
       "      <td>14.0</td>\n",
       "      <td>2313.0</td>\n",
       "      <td>433.0</td>\n",
       "      <td>954.0</td>\n",
       "      <td>397.0</td>\n",
       "      <td>3.7813</td>\n",
       "    </tr>\n",
       "    <tr>\n",
       "      <th>4186</th>\n",
       "      <td>-118.23</td>\n",
       "      <td>34.13</td>\n",
       "      <td>48.0</td>\n",
       "      <td>1308.0</td>\n",
       "      <td>433.0</td>\n",
       "      <td>835.0</td>\n",
       "      <td>294.0</td>\n",
       "      <td>4.2891</td>\n",
       "    </tr>\n",
       "    <tr>\n",
       "      <th>16885</th>\n",
       "      <td>-122.40</td>\n",
       "      <td>37.58</td>\n",
       "      <td>26.0</td>\n",
       "      <td>3281.0</td>\n",
       "      <td>433.0</td>\n",
       "      <td>1145.0</td>\n",
       "      <td>480.0</td>\n",
       "      <td>6.3580</td>\n",
       "    </tr>\n",
       "  </tbody>\n",
       "</table>\n",
       "</div>"
      ],
      "text/plain": [
       "       longitude  latitude  housing_median_age  total_rooms  total_bedrooms  \\\n",
       "1606     -122.08     37.88                26.0       2947.0           433.0   \n",
       "10915    -117.87     33.73                45.0       2264.0           433.0   \n",
       "19150    -122.70     38.35                14.0       2313.0           433.0   \n",
       "4186     -118.23     34.13                48.0       1308.0           433.0   \n",
       "16885    -122.40     37.58                26.0       3281.0           433.0   \n",
       "\n",
       "       population  households  median_income  \n",
       "1606        825.0       626.0         2.9330  \n",
       "10915      1970.0       499.0         3.4193  \n",
       "19150       954.0       397.0         3.7813  \n",
       "4186        835.0       294.0         4.2891  \n",
       "16885      1145.0       480.0         6.3580  "
      ]
     },
     "execution_count": 89,
     "metadata": {},
     "output_type": "execute_result"
    }
   ],
   "source": [
    "housing_tr.loc[sample_incomplete_rows.index.values]"
   ]
  },
  {
   "cell_type": "code",
   "execution_count": 90,
   "metadata": {},
   "outputs": [
    {
     "data": {
      "text/plain": [
       "'median'"
      ]
     },
     "execution_count": 90,
     "metadata": {},
     "output_type": "execute_result"
    }
   ],
   "source": [
    "imputer.strategy"
   ]
  },
  {
   "cell_type": "code",
   "execution_count": 91,
   "metadata": {},
   "outputs": [],
   "source": [
    "housing_tr = pd.DataFrame(X, columns=housing_num.columns,\n",
    "                          index=housing_num.index)"
   ]
  },
  {
   "cell_type": "markdown",
   "metadata": {},
   "source": [
    "## Handling Text and Categorical Attributes"
   ]
  },
  {
   "cell_type": "markdown",
   "metadata": {},
   "source": [
    "Now let's preprocess the categorical input feature, `ocean_proximity`:"
   ]
  },
  {
   "cell_type": "code",
   "execution_count": 92,
   "metadata": {},
   "outputs": [
    {
     "data": {
      "text/html": [
       "<div>\n",
       "<style scoped>\n",
       "    .dataframe tbody tr th:only-of-type {\n",
       "        vertical-align: middle;\n",
       "    }\n",
       "\n",
       "    .dataframe tbody tr th {\n",
       "        vertical-align: top;\n",
       "    }\n",
       "\n",
       "    .dataframe thead th {\n",
       "        text-align: right;\n",
       "    }\n",
       "</style>\n",
       "<table border=\"1\" class=\"dataframe\">\n",
       "  <thead>\n",
       "    <tr style=\"text-align: right;\">\n",
       "      <th></th>\n",
       "      <th>ocean_proximity</th>\n",
       "    </tr>\n",
       "  </thead>\n",
       "  <tbody>\n",
       "    <tr>\n",
       "      <th>12655</th>\n",
       "      <td>INLAND</td>\n",
       "    </tr>\n",
       "    <tr>\n",
       "      <th>15502</th>\n",
       "      <td>NEAR OCEAN</td>\n",
       "    </tr>\n",
       "    <tr>\n",
       "      <th>2908</th>\n",
       "      <td>INLAND</td>\n",
       "    </tr>\n",
       "    <tr>\n",
       "      <th>14053</th>\n",
       "      <td>NEAR OCEAN</td>\n",
       "    </tr>\n",
       "    <tr>\n",
       "      <th>20496</th>\n",
       "      <td>&lt;1H OCEAN</td>\n",
       "    </tr>\n",
       "    <tr>\n",
       "      <th>1481</th>\n",
       "      <td>NEAR BAY</td>\n",
       "    </tr>\n",
       "    <tr>\n",
       "      <th>18125</th>\n",
       "      <td>&lt;1H OCEAN</td>\n",
       "    </tr>\n",
       "    <tr>\n",
       "      <th>5830</th>\n",
       "      <td>&lt;1H OCEAN</td>\n",
       "    </tr>\n",
       "    <tr>\n",
       "      <th>17989</th>\n",
       "      <td>&lt;1H OCEAN</td>\n",
       "    </tr>\n",
       "    <tr>\n",
       "      <th>4861</th>\n",
       "      <td>&lt;1H OCEAN</td>\n",
       "    </tr>\n",
       "  </tbody>\n",
       "</table>\n",
       "</div>"
      ],
      "text/plain": [
       "      ocean_proximity\n",
       "12655          INLAND\n",
       "15502      NEAR OCEAN\n",
       "2908           INLAND\n",
       "14053      NEAR OCEAN\n",
       "20496       <1H OCEAN\n",
       "1481         NEAR BAY\n",
       "18125       <1H OCEAN\n",
       "5830        <1H OCEAN\n",
       "17989       <1H OCEAN\n",
       "4861        <1H OCEAN"
      ]
     },
     "execution_count": 92,
     "metadata": {},
     "output_type": "execute_result"
    }
   ],
   "source": [
    "housing_cat = housing[[\"ocean_proximity\"]]\n",
    "housing_cat.head(10)"
   ]
  },
  {
   "cell_type": "code",
   "execution_count": 93,
   "metadata": {},
   "outputs": [
    {
     "data": {
      "text/plain": [
       "<16512x5 sparse matrix of type '<class 'numpy.float64'>'\n",
       "\twith 16512 stored elements in Compressed Sparse Row format>"
      ]
     },
     "execution_count": 93,
     "metadata": {},
     "output_type": "execute_result"
    }
   ],
   "source": [
    "from sklearn.preprocessing import OneHotEncoder\n",
    "\n",
    "cat_encoder = OneHotEncoder()\n",
    "housing_cat_1hot = cat_encoder.fit_transform(housing_cat)\n",
    "housing_cat_1hot"
   ]
  },
  {
   "cell_type": "markdown",
   "metadata": {},
   "source": [
    "By default, the `OneHotEncoder` class returns a sparse array, but we can convert it to a dense array if needed by calling the `toarray()` method:"
   ]
  },
  {
   "cell_type": "code",
   "execution_count": 94,
   "metadata": {},
   "outputs": [
    {
     "data": {
      "text/plain": [
       "array([[0., 1., 0., 0., 0.],\n",
       "       [0., 0., 0., 0., 1.],\n",
       "       [0., 1., 0., 0., 0.],\n",
       "       ...,\n",
       "       [1., 0., 0., 0., 0.],\n",
       "       [1., 0., 0., 0., 0.],\n",
       "       [0., 1., 0., 0., 0.]])"
      ]
     },
     "execution_count": 94,
     "metadata": {},
     "output_type": "execute_result"
    }
   ],
   "source": [
    "housing_cat_1hot.toarray()"
   ]
  },
  {
   "cell_type": "markdown",
   "metadata": {},
   "source": [
    "## Custom Transformers"
   ]
  },
  {
   "cell_type": "markdown",
   "metadata": {},
   "source": [
    "Let's create a custom transformer to add extra attributes:"
   ]
  },
  {
   "cell_type": "code",
   "execution_count": 95,
   "metadata": {},
   "outputs": [],
   "source": [
    "from sklearn.base import BaseEstimator, TransformerMixin\n",
    "\n",
    "# column index\n",
    "rooms_ix, bedrooms_ix, population_ix, households_ix = 3, 4, 5, 6\n",
    "\n",
    "class CombinedAttributesAdder(BaseEstimator, TransformerMixin):\n",
    "    def __init__(self, add_bedrooms_per_room=True): # no *args or **kargs\n",
    "        self.add_bedrooms_per_room = add_bedrooms_per_room\n",
    "    def fit(self, X, y=None):\n",
    "        return self  # nothing else to do\n",
    "    def transform(self, X):\n",
    "        rooms_per_household = X[:, rooms_ix] / X[:, households_ix]\n",
    "        population_per_household = X[:, population_ix] / X[:, households_ix]\n",
    "        if self.add_bedrooms_per_room:\n",
    "            bedrooms_per_room = X[:, bedrooms_ix] / X[:, rooms_ix]\n",
    "            return np.c_[X, rooms_per_household, population_per_household,\n",
    "                         bedrooms_per_room]\n",
    "        else:\n",
    "            return np.c_[X, rooms_per_household, population_per_household]\n",
    "\n",
    "attr_adder = CombinedAttributesAdder(add_bedrooms_per_room=False)\n",
    "housing_extra_attribs = attr_adder.transform(housing.values)"
   ]
  },
  {
   "cell_type": "markdown",
   "metadata": {},
   "source": [
    "Note that I hard coded the indices (3, 4, 5, 6) for concision and clarity in the book, but it would be much cleaner to get them dynamically, like this:"
   ]
  },
  {
   "cell_type": "code",
   "execution_count": 96,
   "metadata": {},
   "outputs": [],
   "source": [
    "col_names = \"total_rooms\", \"total_bedrooms\", \"population\", \"households\"\n",
    "rooms_ix, bedrooms_ix, population_ix, households_ix = [\n",
    "    housing.columns.get_loc(c) for c in col_names] # get the column indices"
   ]
  },
  {
   "cell_type": "markdown",
   "metadata": {},
   "source": [
    "## Transformation Pipelines"
   ]
  },
  {
   "cell_type": "markdown",
   "metadata": {},
   "source": [
    "Now let's build a pipeline for preprocessing the numerical attributes:"
   ]
  },
  {
   "cell_type": "code",
   "execution_count": 97,
   "metadata": {},
   "outputs": [],
   "source": [
    "from sklearn.pipeline import Pipeline\n",
    "from sklearn.preprocessing import StandardScaler\n",
    "\n",
    "num_pipeline = Pipeline([\n",
    "        ('imputer', SimpleImputer(strategy=\"median\")),\n",
    "        ('attribs_adder', CombinedAttributesAdder()),\n",
    "        ('std_scaler', StandardScaler()),\n",
    "    ])\n",
    "\n",
    "housing_num_tr = num_pipeline.fit_transform(housing_num)"
   ]
  },
  {
   "cell_type": "code",
   "execution_count": 98,
   "metadata": {},
   "outputs": [],
   "source": [
    "from sklearn.compose import ColumnTransformer\n",
    "\n",
    "num_attribs = list(housing_num)\n",
    "cat_attribs = [\"ocean_proximity\"]\n",
    "\n",
    "full_pipeline = ColumnTransformer([\n",
    "        (\"num\", num_pipeline, num_attribs),\n",
    "        (\"cat\", OneHotEncoder(), cat_attribs),\n",
    "    ])\n",
    "\n",
    "housing_prepared = full_pipeline.fit_transform(housing)"
   ]
  },
  {
   "cell_type": "code",
   "execution_count": 99,
   "metadata": {},
   "outputs": [
    {
     "data": {
      "text/plain": [
       "array([[-0.94135046,  1.34743822,  0.02756357, ...,  0.        ,\n",
       "         0.        ,  0.        ],\n",
       "       [ 1.17178212, -1.19243966, -1.72201763, ...,  0.        ,\n",
       "         0.        ,  1.        ],\n",
       "       [ 0.26758118, -0.1259716 ,  1.22045984, ...,  0.        ,\n",
       "         0.        ,  0.        ],\n",
       "       ...,\n",
       "       [-1.5707942 ,  1.31001828,  1.53856552, ...,  0.        ,\n",
       "         0.        ,  0.        ],\n",
       "       [-1.56080303,  1.2492109 , -1.1653327 , ...,  0.        ,\n",
       "         0.        ,  0.        ],\n",
       "       [-1.28105026,  2.02567448, -0.13148926, ...,  0.        ,\n",
       "         0.        ,  0.        ]])"
      ]
     },
     "execution_count": 99,
     "metadata": {},
     "output_type": "execute_result"
    }
   ],
   "source": [
    "housing_prepared"
   ]
  },
  {
   "cell_type": "code",
   "execution_count": 100,
   "metadata": {},
   "outputs": [
    {
     "data": {
      "text/plain": [
       "(16512, 16)"
      ]
     },
     "execution_count": 100,
     "metadata": {},
     "output_type": "execute_result"
    }
   ],
   "source": [
    "housing_prepared.shape"
   ]
  },
  {
   "cell_type": "markdown",
   "metadata": {},
   "source": [
    "For reference, here is the old solution based on a `DataFrameSelector` transformer (to just select a subset of the Pandas `DataFrame` columns), and a `FeatureUnion`:"
   ]
  },
  {
   "cell_type": "code",
   "execution_count": 101,
   "metadata": {},
   "outputs": [],
   "source": [
    "from sklearn.base import BaseEstimator, TransformerMixin\n",
    "\n",
    "# Create a class to select numerical or categorical columns \n",
    "class OldDataFrameSelector(BaseEstimator, TransformerMixin):\n",
    "    def __init__(self, attribute_names):\n",
    "        self.attribute_names = attribute_names\n",
    "    def fit(self, X, y=None):\n",
    "        return self\n",
    "    def transform(self, X):\n",
    "        return X[self.attribute_names].values"
   ]
  },
  {
   "cell_type": "markdown",
   "metadata": {},
   "source": [
    "# Select and Train a Model"
   ]
  },
  {
   "cell_type": "markdown",
   "metadata": {},
   "source": [
    "## Training and Evaluating on the Training Set"
   ]
  },
  {
   "cell_type": "code",
   "execution_count": 102,
   "metadata": {},
   "outputs": [],
   "source": [
    "import numpy as np\n",
    "import matplotlib.pyplot as plt\n",
    "from sklearn.linear_model import LinearRegression\n",
    "from sklearn.tree import DecisionTreeRegressor\n",
    "from sklearn.ensemble import RandomForestRegressor\n",
    "from sklearn.svm import SVR\n",
    "from sklearn.metrics import mean_squared_error, mean_absolute_error\n",
    "\n",
    "# housing_prepared and housing_labels are trained sets"
   ]
  },
  {
   "cell_type": "markdown",
   "metadata": {},
   "source": [
    "### Linear Regression"
   ]
  },
  {
   "cell_type": "code",
   "execution_count": 103,
   "metadata": {},
   "outputs": [
    {
     "name": "stdout",
     "output_type": "stream",
     "text": [
      "68627.87390018745\n"
     ]
    },
    {
     "data": {
      "text/plain": [
       "49438.66860915803"
      ]
     },
     "execution_count": 103,
     "metadata": {},
     "output_type": "execute_result"
    }
   ],
   "source": [
    "lin_reg = LinearRegression()\n",
    "lin_reg.fit(housing_prepared, housing_labels)\n",
    "housing_predictions = lin_reg.predict(housing_prepared)\n",
    "lin_rmse = np.sqrt(mean_squared_error(housing_labels, housing_predictions))\n",
    "lin_mae = mean_absolute_error(housing_labels, housing_predictions)\n",
    "print(lin_rmse)\n",
    "lin_mae"
   ]
  },
  {
   "cell_type": "markdown",
   "metadata": {},
   "source": [
    "### Decision Tree Regressor"
   ]
  },
  {
   "cell_type": "code",
   "execution_count": 104,
   "metadata": {},
   "outputs": [],
   "source": [
    "tree_reg = DecisionTreeRegressor(random_state=42)\n",
    "tree_reg.fit(housing_prepared, housing_labels)\n",
    "housing_predictions = tree_reg.predict(housing_prepared)\n",
    "tree_rmse = np.sqrt(mean_squared_error(housing_labels, housing_predictions))\n",
    "tree_mae = mean_absolute_error(housing_labels, housing_predictions)"
   ]
  },
  {
   "cell_type": "markdown",
   "metadata": {},
   "source": [
    "### Random Forest Regressor"
   ]
  },
  {
   "cell_type": "code",
   "execution_count": 105,
   "metadata": {},
   "outputs": [],
   "source": [
    "forest_reg = RandomForestRegressor(n_estimators=100, random_state=42)\n",
    "forest_reg.fit(housing_prepared, housing_labels)\n",
    "housing_predictions = forest_reg.predict(housing_prepared)\n",
    "forest_rmse = np.sqrt(mean_squared_error(housing_labels, housing_predictions))\n",
    "forest_mae = mean_absolute_error(housing_labels, housing_predictions)"
   ]
  },
  {
   "cell_type": "markdown",
   "metadata": {},
   "source": [
    "### Support Vector Regressor"
   ]
  },
  {
   "cell_type": "code",
   "execution_count": 106,
   "metadata": {},
   "outputs": [],
   "source": [
    "# from  grid_search.best_params_ we get c=30000.0 and kernel=\"linear\"\n",
    "svm_reg = SVR(kernel=\"linear\", C=300000.0)\n",
    "svm_reg.fit(housing_prepared, housing_labels)\n",
    "housing_predictions = svm_reg.predict(housing_prepared)\n",
    "svm_rmse = np.sqrt(mean_squared_error(housing_labels, housing_predictions))\n",
    "svm_mae = mean_absolute_error(housing_labels, housing_predictions)"
   ]
  },
  {
   "cell_type": "markdown",
   "metadata": {},
   "source": [
    "## Results in Table and Graph"
   ]
  },
  {
   "cell_type": "markdown",
   "metadata": {},
   "source": [
    "### Collect RMSE and MAE values for all models"
   ]
  },
  {
   "cell_type": "code",
   "execution_count": 53,
   "metadata": {},
   "outputs": [
    {
     "name": "stdout",
     "output_type": "stream",
     "text": [
      "[68627.87390018745, 0.0, 18650.698705770003, 70156.44102439271]\n",
      "[49438.66860915803, 0.0, 12061.519983648257, 48007.48158913357]\n"
     ]
    }
   ],
   "source": [
    "models = ['Linear Regression ', 'Decision Tree', 'Random Forest', 'SVR']\n",
    "rmse_values = [lin_rmse, tree_rmse, forest_rmse, svm_rmse]\n",
    "mae_values = [lin_mae, tree_mae, forest_mae, svm_mae]\n",
    "print(rmse_values)\n",
    "print(mae_values)"
   ]
  },
  {
   "cell_type": "markdown",
   "metadata": {},
   "source": [
    "### RMSE Comparsion Plot"
   ]
  },
  {
   "cell_type": "code",
   "execution_count": 54,
   "metadata": {},
   "outputs": [
    {
     "data": {
      "image/png": "[encoded data removed]",
      "text/plain": [
       "<Figure size 640x480 with 1 Axes>"
      ]
     },
     "metadata": {},
     "output_type": "display_data"
    }
   ],
   "source": [
    "plt.bar(models, rmse_values, color=['blue', 'green', 'orange', 'red'])\n",
    "plt.xlabel('Models')\n",
    "plt.ylabel('RMSE')\n",
    "plt.title('RMSE Comparison of Different Regressors')\n",
    "plt.tight_layout()\n",
    "plt.show()"
   ]
  },
  {
   "cell_type": "markdown",
   "metadata": {},
   "source": [
    "### MAE Complarsion Plot"
   ]
  },
  {
   "cell_type": "code",
   "execution_count": 55,
   "metadata": {},
   "outputs": [
    {
     "data": {
      "image/png": "[encoded data removed]",
      "text/plain": [
       "<Figure size 640x480 with 1 Axes>"
      ]
     },
     "metadata": {},
     "output_type": "display_data"
    }
   ],
   "source": [
    "plt.bar(models, mae_values, color=['blue', 'green', 'orange', 'red'])\n",
    "plt.xlabel('Models')\n",
    "plt.ylabel('MAE')\n",
    "plt.title('MAE Comparison of Different Regressors')\n",
    "plt.tight_layout()\n",
    "plt.show()"
   ]
  },
  {
   "cell_type": "markdown",
   "metadata": {},
   "source": [
    "## Better Evaluation Using Cross-Validation"
   ]
  },
  {
   "cell_type": "code",
   "execution_count": 119,
   "metadata": {},
   "outputs": [],
   "source": [
    "from sklearn.model_selection import cross_val_score\n",
    "import numpy as np"
   ]
  },
  {
   "cell_type": "markdown",
   "metadata": {},
   "source": [
    "### Function to display scores"
   ]
  },
  {
   "cell_type": "code",
   "execution_count": 120,
   "metadata": {},
   "outputs": [],
   "source": [
    "def display_scores(scores):\n",
    "    print(\"Scores:\", scores)\n",
    "    print(\"Mean:\", scores.mean())\n",
    "    print(\"Standard deviation:\", scores.std())"
   ]
  },
  {
   "cell_type": "markdown",
   "metadata": {},
   "source": [
    "### Linear Regression"
   ]
  },
  {
   "cell_type": "code",
   "execution_count": 121,
   "metadata": {},
   "outputs": [
    {
     "name": "stdout",
     "output_type": "stream",
     "text": [
      "Linear Regression Cross-Validation Results:\n",
      "Scores: [71762.76364394 64114.99166359 67771.17124356 68635.19072082\n",
      " 66846.14089488 72528.03725385 73997.08050233 68802.33629334\n",
      " 66443.28836884 70139.79923956]\n",
      "Mean: 69104.07998247063\n",
      "Standard deviation: 2880.328209818069\n"
     ]
    }
   ],
   "source": [
    "lin_scores = cross_val_score(lin_reg, housing_prepared, housing_labels,\n",
    "                             scoring=\"neg_mean_squared_error\", cv=10)\n",
    "lin_rmse_scores = np.sqrt(-lin_scores)\n",
    "print(\"Linear Regression Cross-Validation Results:\")\n",
    "display_scores(lin_rmse_scores)\n"
   ]
  },
  {
   "cell_type": "markdown",
   "metadata": {},
   "source": [
    "### Decision Tree Regressor"
   ]
  },
  {
   "cell_type": "code",
   "execution_count": 122,
   "metadata": {},
   "outputs": [
    {
     "name": "stdout",
     "output_type": "stream",
     "text": [
      "Decision Tree Cross-Validation Results:\n",
      "Scores: [72831.45749112 69973.18438322 69528.56551415 72517.78229792\n",
      " 69145.50006909 79094.74123727 68960.045444   73344.50225684\n",
      " 69826.02473916 71077.09753998]\n",
      "Mean: 71629.89009727491\n",
      "Standard deviation: 2914.035468468928\n"
     ]
    }
   ],
   "source": [
    "tree_scores = cross_val_score(tree_reg, housing_prepared, housing_labels,\n",
    "                              scoring=\"neg_mean_squared_error\", cv=10)\n",
    "tree_rmse_scores = np.sqrt(-tree_scores)\n",
    "print(\"Decision Tree Cross-Validation Results:\")\n",
    "display_scores(tree_rmse_scores)"
   ]
  },
  {
   "cell_type": "markdown",
   "metadata": {},
   "source": [
    "### Random Forest Regressor"
   ]
  },
  {
   "cell_type": "code",
   "execution_count": 123,
   "metadata": {},
   "outputs": [
    {
     "name": "stdout",
     "output_type": "stream",
     "text": [
      "Random Forest Cross-Validation Results:\n",
      "Scores: [51559.63379638 48737.57100062 47210.51269766 51875.21247297\n",
      " 47577.50470123 51863.27467888 52746.34645573 50065.1762751\n",
      " 48664.66818196 54055.90894609]\n",
      "Mean: 50435.58092066179\n",
      "Standard deviation: 2203.3381412764606\n"
     ]
    }
   ],
   "source": [
    "forest_scores = cross_val_score(forest_reg, housing_prepared, housing_labels,\n",
    "                                scoring=\"neg_mean_squared_error\", cv=10)\n",
    "forest_rmse_scores = np.sqrt(-forest_scores)\n",
    "print(\"Random Forest Cross-Validation Results:\")\n",
    "display_scores(forest_rmse_scores)"
   ]
  },
  {
   "cell_type": "markdown",
   "metadata": {},
   "source": [
    "### Support Vector Regressor (SVR)"
   ]
  },
  {
   "cell_type": "code",
   "execution_count": 124,
   "metadata": {},
   "outputs": [
    {
     "name": "stdout",
     "output_type": "stream",
     "text": [
      "SVR Cross-Validation Results:\n",
      "Scores: [116729.13778306 120113.99351281 113925.04340616 120399.11878641\n",
      " 114687.49942071 122785.64737282 119853.79338279 118280.31108193\n",
      " 120230.82615529 118840.1885232 ]\n",
      "Mean: 118584.55594251942\n",
      "Standard deviation: 2609.6120823493407\n"
     ]
    }
   ],
   "source": [
    "SVR_scores = cross_val_score(svm_reg, housing_prepared, housing_labels,\n",
    "                             scoring=\"neg_mean_squared_error\", cv=10)\n",
    "SVR_rmse_scores = np.sqrt(-SVR_scores)\n",
    "print(\"SVR Cross-Validation Results:\")\n",
    "display_scores(SVR_rmse_scores)"
   ]
  },
  {
   "cell_type": "markdown",
   "metadata": {},
   "source": [
    "### Visualizing the Results"
   ]
  },
  {
   "cell_type": "code",
   "execution_count": 4,
   "metadata": {},
   "outputs": [
    {
     "data": {
      "image/png": "[encoded data removed]",
      "text/plain": [
       "<Figure size 800x800 with 1 Axes>"
      ]
     },
     "metadata": {},
     "output_type": "display_data"
    }
   ],
   "source": [
    "import matplotlib.pyplot as plt\n",
    "import seaborn as sns\n",
    "import pandas as pd\n",
    "\n",
    "# scores for each model \n",
    "data = {\n",
    "    'Linear Regression': [\n",
    "        71762.76364394, 64114.99166359, 67771.17124356, \n",
    "        68635.19072082, 66846.14089488, 72528.03725385, \n",
    "        73997.08050233, 68802.33629334, 66443.28836884, \n",
    "        70139.79923956\n",
    "    ],\n",
    "    'Decision Tree': [\n",
    "        72831.45749112, 69973.18438322, 69528.56551415, \n",
    "        72517.78229792, 69145.50006909, 79094.74123727, \n",
    "        68960.045444, 73344.50225684, 69826.02473916,\n",
    "        71077.09753998  \n",
    "    ],\n",
    "    'Random Forest': [\n",
    "        51559.63379638, 48737.57100062, 47210.51269766, \n",
    "        51875.21247297, 47577.50470123, 51863.27467888, \n",
    "        52746.34645573, 50065.1762751, 48664.66818196, \n",
    "        54055.90894609\n",
    "    ],\n",
    "    'Support Vector Regression': [\n",
    "        116729.13778306, 120113.99351281, 113925.04340616, \n",
    "        120399.11878641, 114687.49942071, 122785.64737282, \n",
    "        119853.79338279, 118280.31108193, \n",
    "        120230.82615529, 118840.1885232\n",
    "    ]\n",
    "}\n",
    "\n",
    "# Creating a DataFrame for the cross validated data\n",
    "df = pd.DataFrame(data)\n",
    "\n",
    "mean_values = df.mean()\n",
    "std_dev_values = df.std()\n",
    "\n",
    "sns.set(style=\"whitegrid\")\n",
    "plt.figure(figsize=(8, 8))\n",
    "\n",
    "sns.boxplot(data=df, palette=\"pastel\", linewidth=1.5)\n",
    "\n",
    "plt.title('Cross-Validation Scores for Regression Models', fontsize=16, fontweight='bold')\n",
    "plt.ylabel('Scores', fontsize=14)\n",
    "plt.xlabel('Regression Models', fontsize=14)\n",
    "plt.xticks( fontsize=11)\n",
    "plt.grid(axis='y', linestyle='--', alpha=0.7)\n",
    "\n",
    "# Display the plot\n",
    "plt.tight_layout()  \n",
    "plt.show()\n"
   ]
  },
  {
   "cell_type": "markdown",
   "metadata": {},
   "source": [
    "### SVM regressor"
   ]
  },
  {
   "cell_type": "code",
   "execution_count": 107,
   "metadata": {},
   "outputs": [
    {
     "name": "stdout",
     "output_type": "stream",
     "text": [
      "Fitting 5 folds for each of 50 candidates, totalling 250 fits\n",
      "[CV] END ..............................C=10.0, kernel=linear; total time=  12.6s\n",
      "[CV] END ..............................C=10.0, kernel=linear; total time=  12.0s\n",
      "[CV] END ..............................C=10.0, kernel=linear; total time=  12.3s\n",
      "[CV] END ..............................C=10.0, kernel=linear; total time=  12.3s\n",
      "[CV] END ..............................C=10.0, kernel=linear; total time=  12.8s\n",
      "[CV] END ..............................C=30.0, kernel=linear; total time=  12.2s\n",
      "[CV] END ..............................C=30.0, kernel=linear; total time=  12.0s\n",
      "[CV] END ..............................C=30.0, kernel=linear; total time=  12.4s\n",
      "[CV] END ..............................C=30.0, kernel=linear; total time=  12.4s\n",
      "[CV] END ..............................C=30.0, kernel=linear; total time=  12.0s\n",
      "[CV] END .............................C=100.0, kernel=linear; total time=  12.2s\n",
      "[CV] END .............................C=100.0, kernel=linear; total time=  11.9s\n",
      "[CV] END .............................C=100.0, kernel=linear; total time=  12.4s\n",
      "[CV] END .............................C=100.0, kernel=linear; total time=  12.1s\n",
      "[CV] END .............................C=100.0, kernel=linear; total time=  12.2s\n",
      "[CV] END .............................C=300.0, kernel=linear; total time=  12.3s\n",
      "[CV] END .............................C=300.0, kernel=linear; total time=  12.0s\n",
      "[CV] END .............................C=300.0, kernel=linear; total time=  12.1s\n",
      "[CV] END .............................C=300.0, kernel=linear; total time=  12.2s\n",
      "[CV] END .............................C=300.0, kernel=linear; total time=  12.3s\n",
      "[CV] END ............................C=1000.0, kernel=linear; total time=  12.4s\n",
      "[CV] END ............................C=1000.0, kernel=linear; total time=  12.3s\n",
      "[CV] END ............................C=1000.0, kernel=linear; total time=  12.4s\n",
      "[CV] END ............................C=1000.0, kernel=linear; total time=  13.0s\n",
      "[CV] END ............................C=1000.0, kernel=linear; total time=  12.6s\n",
      "[CV] END ............................C=3000.0, kernel=linear; total time=  13.4s\n",
      "[CV] END ............................C=3000.0, kernel=linear; total time=  13.3s\n",
      "[CV] END ............................C=3000.0, kernel=linear; total time=  12.9s\n",
      "[CV] END ............................C=3000.0, kernel=linear; total time=  13.1s\n",
      "[CV] END ............................C=3000.0, kernel=linear; total time=  13.1s\n",
      "[CV] END ...........................C=10000.0, kernel=linear; total time=  15.5s\n",
      "[CV] END ...........................C=10000.0, kernel=linear; total time=  15.4s\n",
      "[CV] END ...........................C=10000.0, kernel=linear; total time=  14.9s\n",
      "[CV] END ...........................C=10000.0, kernel=linear; total time=  15.1s\n",
      "[CV] END ...........................C=10000.0, kernel=linear; total time=  15.6s\n",
      "[CV] END ...........................C=30000.0, kernel=linear; total time=  21.6s\n",
      "[CV] END ...........................C=30000.0, kernel=linear; total time=  21.2s\n",
      "[CV] END ...........................C=30000.0, kernel=linear; total time=  21.8s\n",
      "[CV] END ...........................C=30000.0, kernel=linear; total time=  23.4s\n",
      "[CV] END ...........................C=30000.0, kernel=linear; total time=  23.4s\n",
      "[CV] END ......................C=1.0, gamma=0.01, kernel=rbf; total time=  22.2s\n",
      "[CV] END ......................C=1.0, gamma=0.01, kernel=rbf; total time=  23.0s\n",
      "[CV] END ......................C=1.0, gamma=0.01, kernel=rbf; total time=  22.3s\n",
      "[CV] END ......................C=1.0, gamma=0.01, kernel=rbf; total time=  22.4s\n",
      "[CV] END ......................C=1.0, gamma=0.01, kernel=rbf; total time=  22.4s\n",
      "[CV] END ......................C=1.0, gamma=0.03, kernel=rbf; total time=  22.9s\n",
      "[CV] END ......................C=1.0, gamma=0.03, kernel=rbf; total time=  22.1s\n",
      "[CV] END ......................C=1.0, gamma=0.03, kernel=rbf; total time=  22.0s\n",
      "[CV] END ......................C=1.0, gamma=0.03, kernel=rbf; total time=  21.9s\n",
      "[CV] END ......................C=1.0, gamma=0.03, kernel=rbf; total time=  22.2s\n",
      "[CV] END .......................C=1.0, gamma=0.1, kernel=rbf; total time=  22.0s\n",
      "[CV] END .......................C=1.0, gamma=0.1, kernel=rbf; total time=  22.0s\n",
      "[CV] END .......................C=1.0, gamma=0.1, kernel=rbf; total time=  22.0s\n",
      "[CV] END .......................C=1.0, gamma=0.1, kernel=rbf; total time=  22.4s\n",
      "[CV] END .......................C=1.0, gamma=0.1, kernel=rbf; total time=  22.0s\n",
      "[CV] END .......................C=1.0, gamma=0.3, kernel=rbf; total time=  21.4s\n",
      "[CV] END .......................C=1.0, gamma=0.3, kernel=rbf; total time=  21.5s\n",
      "[CV] END .......................C=1.0, gamma=0.3, kernel=rbf; total time=  21.5s\n",
      "[CV] END .......................C=1.0, gamma=0.3, kernel=rbf; total time=  21.6s\n",
      "[CV] END .......................C=1.0, gamma=0.3, kernel=rbf; total time=  21.5s\n",
      "[CV] END .......................C=1.0, gamma=1.0, kernel=rbf; total time=  21.1s\n",
      "[CV] END .......................C=1.0, gamma=1.0, kernel=rbf; total time=  21.1s\n",
      "[CV] END .......................C=1.0, gamma=1.0, kernel=rbf; total time=  20.8s\n",
      "[CV] END .......................C=1.0, gamma=1.0, kernel=rbf; total time=  20.9s\n",
      "[CV] END .......................C=1.0, gamma=1.0, kernel=rbf; total time=  20.9s\n",
      "[CV] END .......................C=1.0, gamma=3.0, kernel=rbf; total time=  20.8s\n",
      "[CV] END .......................C=1.0, gamma=3.0, kernel=rbf; total time=  20.4s\n",
      "[CV] END .......................C=1.0, gamma=3.0, kernel=rbf; total time=  20.5s\n",
      "[CV] END .......................C=1.0, gamma=3.0, kernel=rbf; total time=  20.6s\n",
      "[CV] END .......................C=1.0, gamma=3.0, kernel=rbf; total time=  20.6s\n",
      "[CV] END ......................C=3.0, gamma=0.01, kernel=rbf; total time=  22.4s\n",
      "[CV] END ......................C=3.0, gamma=0.01, kernel=rbf; total time=  22.6s\n",
      "[CV] END ......................C=3.0, gamma=0.01, kernel=rbf; total time=  22.5s\n",
      "[CV] END ......................C=3.0, gamma=0.01, kernel=rbf; total time=  22.3s\n",
      "[CV] END ......................C=3.0, gamma=0.01, kernel=rbf; total time=  22.2s\n",
      "[CV] END ......................C=3.0, gamma=0.03, kernel=rbf; total time=  22.2s\n",
      "[CV] END ......................C=3.0, gamma=0.03, kernel=rbf; total time=  22.1s\n",
      "[CV] END ......................C=3.0, gamma=0.03, kernel=rbf; total time=  22.9s\n",
      "[CV] END ......................C=3.0, gamma=0.03, kernel=rbf; total time=  24.5s\n",
      "[CV] END ......................C=3.0, gamma=0.03, kernel=rbf; total time=  24.3s\n",
      "[CV] END .......................C=3.0, gamma=0.1, kernel=rbf; total time=  24.3s\n",
      "[CV] END .......................C=3.0, gamma=0.1, kernel=rbf; total time=  23.8s\n",
      "[CV] END .......................C=3.0, gamma=0.1, kernel=rbf; total time=  23.6s\n",
      "[CV] END .......................C=3.0, gamma=0.1, kernel=rbf; total time=  23.2s\n",
      "[CV] END .......................C=3.0, gamma=0.1, kernel=rbf; total time=  23.7s\n",
      "[CV] END .......................C=3.0, gamma=0.3, kernel=rbf; total time=  23.0s\n",
      "[CV] END .......................C=3.0, gamma=0.3, kernel=rbf; total time=  22.6s\n",
      "[CV] END .......................C=3.0, gamma=0.3, kernel=rbf; total time=  22.8s\n",
      "[CV] END .......................C=3.0, gamma=0.3, kernel=rbf; total time=  22.3s\n",
      "[CV] END .......................C=3.0, gamma=0.3, kernel=rbf; total time=  22.3s\n",
      "[CV] END .......................C=3.0, gamma=1.0, kernel=rbf; total time=  22.1s\n",
      "[CV] END .......................C=3.0, gamma=1.0, kernel=rbf; total time=  22.7s\n",
      "[CV] END .......................C=3.0, gamma=1.0, kernel=rbf; total time=  22.2s\n",
      "[CV] END .......................C=3.0, gamma=1.0, kernel=rbf; total time=  22.0s\n",
      "[CV] END .......................C=3.0, gamma=1.0, kernel=rbf; total time=  22.2s\n",
      "[CV] END .......................C=3.0, gamma=3.0, kernel=rbf; total time=  21.7s\n",
      "[CV] END .......................C=3.0, gamma=3.0, kernel=rbf; total time=  20.8s\n",
      "[CV] END .......................C=3.0, gamma=3.0, kernel=rbf; total time=  20.8s\n",
      "[CV] END .......................C=3.0, gamma=3.0, kernel=rbf; total time=  20.7s\n",
      "[CV] END .......................C=3.0, gamma=3.0, kernel=rbf; total time=  20.7s\n",
      "[CV] END .....................C=10.0, gamma=0.01, kernel=rbf; total time=  22.0s\n",
      "[CV] END .....................C=10.0, gamma=0.01, kernel=rbf; total time=  23.1s\n",
      "[CV] END .....................C=10.0, gamma=0.01, kernel=rbf; total time=  22.3s\n",
      "[CV] END .....................C=10.0, gamma=0.01, kernel=rbf; total time=  22.2s\n",
      "[CV] END .....................C=10.0, gamma=0.01, kernel=rbf; total time=  22.3s\n",
      "[CV] END .....................C=10.0, gamma=0.03, kernel=rbf; total time=  22.3s\n",
      "[CV] END .....................C=10.0, gamma=0.03, kernel=rbf; total time=  22.2s\n",
      "[CV] END .....................C=10.0, gamma=0.03, kernel=rbf; total time=  22.1s\n",
      "[CV] END .....................C=10.0, gamma=0.03, kernel=rbf; total time=  22.2s\n",
      "[CV] END .....................C=10.0, gamma=0.03, kernel=rbf; total time=  22.8s\n",
      "[CV] END ......................C=10.0, gamma=0.1, kernel=rbf; total time=  23.4s\n",
      "[CV] END ......................C=10.0, gamma=0.1, kernel=rbf; total time=  25.2s\n",
      "[CV] END ......................C=10.0, gamma=0.1, kernel=rbf; total time=  23.3s\n",
      "[CV] END ......................C=10.0, gamma=0.1, kernel=rbf; total time=  23.5s\n",
      "[CV] END ......................C=10.0, gamma=0.1, kernel=rbf; total time=  23.1s\n",
      "[CV] END ......................C=10.0, gamma=0.3, kernel=rbf; total time=  22.3s\n",
      "[CV] END ......................C=10.0, gamma=0.3, kernel=rbf; total time=  22.1s\n",
      "[CV] END ......................C=10.0, gamma=0.3, kernel=rbf; total time=  22.2s\n",
      "[CV] END ......................C=10.0, gamma=0.3, kernel=rbf; total time=  22.8s\n",
      "[CV] END ......................C=10.0, gamma=0.3, kernel=rbf; total time=  22.5s\n",
      "[CV] END ......................C=10.0, gamma=1.0, kernel=rbf; total time=  21.5s\n",
      "[CV] END ......................C=10.0, gamma=1.0, kernel=rbf; total time=  21.5s\n",
      "[CV] END ......................C=10.0, gamma=1.0, kernel=rbf; total time=  22.1s\n",
      "[CV] END ......................C=10.0, gamma=1.0, kernel=rbf; total time=  22.0s\n",
      "[CV] END ......................C=10.0, gamma=1.0, kernel=rbf; total time=  22.0s\n",
      "[CV] END ......................C=10.0, gamma=3.0, kernel=rbf; total time=  21.9s\n",
      "[CV] END ......................C=10.0, gamma=3.0, kernel=rbf; total time=  21.5s\n",
      "[CV] END ......................C=10.0, gamma=3.0, kernel=rbf; total time=  22.2s\n",
      "[CV] END ......................C=10.0, gamma=3.0, kernel=rbf; total time=  22.2s\n",
      "[CV] END ......................C=10.0, gamma=3.0, kernel=rbf; total time=  22.2s\n",
      "[CV] END .....................C=30.0, gamma=0.01, kernel=rbf; total time=  23.8s\n",
      "[CV] END .....................C=30.0, gamma=0.01, kernel=rbf; total time=  23.5s\n",
      "[CV] END .....................C=30.0, gamma=0.01, kernel=rbf; total time=  22.5s\n",
      "[CV] END .....................C=30.0, gamma=0.01, kernel=rbf; total time=  22.2s\n",
      "[CV] END .....................C=30.0, gamma=0.01, kernel=rbf; total time=  22.3s\n",
      "[CV] END .....................C=30.0, gamma=0.03, kernel=rbf; total time=  22.2s\n",
      "[CV] END .....................C=30.0, gamma=0.03, kernel=rbf; total time=  22.9s\n",
      "[CV] END .....................C=30.0, gamma=0.03, kernel=rbf; total time=  22.6s\n",
      "[CV] END .....................C=30.0, gamma=0.03, kernel=rbf; total time=  22.5s\n",
      "[CV] END .....................C=30.0, gamma=0.03, kernel=rbf; total time=  22.6s\n",
      "[CV] END ......................C=30.0, gamma=0.1, kernel=rbf; total time=  22.1s\n",
      "[CV] END ......................C=30.0, gamma=0.1, kernel=rbf; total time=  22.2s\n",
      "[CV] END ......................C=30.0, gamma=0.1, kernel=rbf; total time=  22.7s\n",
      "[CV] END ......................C=30.0, gamma=0.1, kernel=rbf; total time=  22.2s\n",
      "[CV] END ......................C=30.0, gamma=0.1, kernel=rbf; total time=  22.3s\n",
      "[CV] END ......................C=30.0, gamma=0.3, kernel=rbf; total time=  21.7s\n",
      "[CV] END ......................C=30.0, gamma=0.3, kernel=rbf; total time=  21.7s\n",
      "[CV] END ......................C=30.0, gamma=0.3, kernel=rbf; total time=  21.6s\n",
      "[CV] END ......................C=30.0, gamma=0.3, kernel=rbf; total time=  22.7s\n",
      "[CV] END ......................C=30.0, gamma=0.3, kernel=rbf; total time=  22.6s\n",
      "[CV] END ......................C=30.0, gamma=1.0, kernel=rbf; total time=  21.1s\n",
      "[CV] END ......................C=30.0, gamma=1.0, kernel=rbf; total time=  21.0s\n",
      "[CV] END ......................C=30.0, gamma=1.0, kernel=rbf; total time=  20.8s\n",
      "[CV] END ......................C=30.0, gamma=1.0, kernel=rbf; total time=  20.8s\n",
      "[CV] END ......................C=30.0, gamma=1.0, kernel=rbf; total time=  20.8s\n",
      "[CV] END ......................C=30.0, gamma=3.0, kernel=rbf; total time=  20.5s\n",
      "[CV] END ......................C=30.0, gamma=3.0, kernel=rbf; total time=  21.1s\n",
      "[CV] END ......................C=30.0, gamma=3.0, kernel=rbf; total time=  20.9s\n",
      "[CV] END ......................C=30.0, gamma=3.0, kernel=rbf; total time=  20.9s\n",
      "[CV] END ......................C=30.0, gamma=3.0, kernel=rbf; total time=  20.7s\n",
      "[CV] END ....................C=100.0, gamma=0.01, kernel=rbf; total time=  22.2s\n",
      "[CV] END ....................C=100.0, gamma=0.01, kernel=rbf; total time=  22.2s\n",
      "[CV] END ....................C=100.0, gamma=0.01, kernel=rbf; total time=  22.6s\n",
      "[CV] END ....................C=100.0, gamma=0.01, kernel=rbf; total time=  22.1s\n",
      "[CV] END ....................C=100.0, gamma=0.01, kernel=rbf; total time=  22.6s\n",
      "[CV] END ....................C=100.0, gamma=0.03, kernel=rbf; total time=  23.0s\n",
      "[CV] END ....................C=100.0, gamma=0.03, kernel=rbf; total time=  23.7s\n",
      "[CV] END ....................C=100.0, gamma=0.03, kernel=rbf; total time=  24.0s\n",
      "[CV] END ....................C=100.0, gamma=0.03, kernel=rbf; total time=  22.6s\n",
      "[CV] END ....................C=100.0, gamma=0.03, kernel=rbf; total time=  22.0s\n",
      "[CV] END .....................C=100.0, gamma=0.1, kernel=rbf; total time=  21.6s\n",
      "[CV] END .....................C=100.0, gamma=0.1, kernel=rbf; total time=  21.7s\n",
      "[CV] END .....................C=100.0, gamma=0.1, kernel=rbf; total time=  21.8s\n",
      "[CV] END .....................C=100.0, gamma=0.1, kernel=rbf; total time=  21.5s\n",
      "[CV] END .....................C=100.0, gamma=0.1, kernel=rbf; total time=  21.6s\n",
      "[CV] END .....................C=100.0, gamma=0.3, kernel=rbf; total time=  21.5s\n",
      "[CV] END .....................C=100.0, gamma=0.3, kernel=rbf; total time=  21.5s\n",
      "[CV] END .....................C=100.0, gamma=0.3, kernel=rbf; total time=  21.6s\n",
      "[CV] END .....................C=100.0, gamma=0.3, kernel=rbf; total time=  21.4s\n",
      "[CV] END .....................C=100.0, gamma=0.3, kernel=rbf; total time=  21.4s\n",
      "[CV] END .....................C=100.0, gamma=1.0, kernel=rbf; total time=  21.0s\n",
      "[CV] END .....................C=100.0, gamma=1.0, kernel=rbf; total time=  21.2s\n",
      "[CV] END .....................C=100.0, gamma=1.0, kernel=rbf; total time=  20.7s\n",
      "[CV] END .....................C=100.0, gamma=1.0, kernel=rbf; total time=  21.1s\n",
      "[CV] END .....................C=100.0, gamma=1.0, kernel=rbf; total time=  20.7s\n",
      "[CV] END .....................C=100.0, gamma=3.0, kernel=rbf; total time=  20.6s\n",
      "[CV] END .....................C=100.0, gamma=3.0, kernel=rbf; total time=  20.5s\n",
      "[CV] END .....................C=100.0, gamma=3.0, kernel=rbf; total time=  20.8s\n",
      "[CV] END .....................C=100.0, gamma=3.0, kernel=rbf; total time=  20.7s\n",
      "[CV] END .....................C=100.0, gamma=3.0, kernel=rbf; total time=  20.8s\n",
      "[CV] END ....................C=300.0, gamma=0.01, kernel=rbf; total time=  22.2s\n",
      "[CV] END ....................C=300.0, gamma=0.01, kernel=rbf; total time=  22.1s\n",
      "[CV] END ....................C=300.0, gamma=0.01, kernel=rbf; total time=  22.1s\n",
      "[CV] END ....................C=300.0, gamma=0.01, kernel=rbf; total time=  22.4s\n",
      "[CV] END ....................C=300.0, gamma=0.01, kernel=rbf; total time=  19.4s\n",
      "[CV] END ....................C=300.0, gamma=0.03, kernel=rbf; total time=   9.0s\n",
      "[CV] END ....................C=300.0, gamma=0.03, kernel=rbf; total time=   9.2s\n",
      "[CV] END ....................C=300.0, gamma=0.03, kernel=rbf; total time=   9.2s\n",
      "[CV] END ....................C=300.0, gamma=0.03, kernel=rbf; total time=   9.1s\n",
      "[CV] END ....................C=300.0, gamma=0.03, kernel=rbf; total time=   9.3s\n",
      "[CV] END .....................C=300.0, gamma=0.1, kernel=rbf; total time=   9.2s\n",
      "[CV] END .....................C=300.0, gamma=0.1, kernel=rbf; total time=   9.2s\n",
      "[CV] END .....................C=300.0, gamma=0.1, kernel=rbf; total time=   9.4s\n",
      "[CV] END .....................C=300.0, gamma=0.1, kernel=rbf; total time=   9.1s\n",
      "[CV] END .....................C=300.0, gamma=0.1, kernel=rbf; total time=   9.2s\n",
      "[CV] END .....................C=300.0, gamma=0.3, kernel=rbf; total time=   9.0s\n",
      "[CV] END .....................C=300.0, gamma=0.3, kernel=rbf; total time=   8.9s\n",
      "[CV] END .....................C=300.0, gamma=0.3, kernel=rbf; total time=   9.4s\n",
      "[CV] END .....................C=300.0, gamma=0.3, kernel=rbf; total time=   9.5s\n",
      "[CV] END .....................C=300.0, gamma=0.3, kernel=rbf; total time=   9.3s\n",
      "[CV] END .....................C=300.0, gamma=1.0, kernel=rbf; total time=   9.0s\n",
      "[CV] END .....................C=300.0, gamma=1.0, kernel=rbf; total time=   9.3s\n",
      "[CV] END .....................C=300.0, gamma=1.0, kernel=rbf; total time=   9.4s\n",
      "[CV] END .....................C=300.0, gamma=1.0, kernel=rbf; total time=   9.7s\n",
      "[CV] END .....................C=300.0, gamma=1.0, kernel=rbf; total time=   9.7s\n",
      "[CV] END .....................C=300.0, gamma=3.0, kernel=rbf; total time=   9.7s\n",
      "[CV] END .....................C=300.0, gamma=3.0, kernel=rbf; total time=  10.1s\n",
      "[CV] END .....................C=300.0, gamma=3.0, kernel=rbf; total time=   9.2s\n",
      "[CV] END .....................C=300.0, gamma=3.0, kernel=rbf; total time=   9.0s\n",
      "[CV] END .....................C=300.0, gamma=3.0, kernel=rbf; total time=   9.2s\n",
      "[CV] END ...................C=1000.0, gamma=0.01, kernel=rbf; total time=   9.5s\n",
      "[CV] END ...................C=1000.0, gamma=0.01, kernel=rbf; total time=   9.5s\n",
      "[CV] END ...................C=1000.0, gamma=0.01, kernel=rbf; total time=   9.5s\n",
      "[CV] END ...................C=1000.0, gamma=0.01, kernel=rbf; total time=   9.3s\n",
      "[CV] END ...................C=1000.0, gamma=0.01, kernel=rbf; total time=   9.4s\n",
      "[CV] END ...................C=1000.0, gamma=0.03, kernel=rbf; total time=   9.8s\n",
      "[CV] END ...................C=1000.0, gamma=0.03, kernel=rbf; total time=   9.6s\n",
      "[CV] END ...................C=1000.0, gamma=0.03, kernel=rbf; total time=   9.7s\n",
      "[CV] END ...................C=1000.0, gamma=0.03, kernel=rbf; total time=   9.5s\n",
      "[CV] END ...................C=1000.0, gamma=0.03, kernel=rbf; total time=   9.8s\n",
      "[CV] END ....................C=1000.0, gamma=0.1, kernel=rbf; total time=   9.8s\n",
      "[CV] END ....................C=1000.0, gamma=0.1, kernel=rbf; total time=   9.8s\n",
      "[CV] END ....................C=1000.0, gamma=0.1, kernel=rbf; total time=   9.6s\n",
      "[CV] END ....................C=1000.0, gamma=0.1, kernel=rbf; total time=   9.3s\n",
      "[CV] END ....................C=1000.0, gamma=0.1, kernel=rbf; total time=   9.1s\n",
      "[CV] END ....................C=1000.0, gamma=0.3, kernel=rbf; total time=   9.2s\n",
      "[CV] END ....................C=1000.0, gamma=0.3, kernel=rbf; total time=   9.6s\n",
      "[CV] END ....................C=1000.0, gamma=0.3, kernel=rbf; total time=   9.3s\n",
      "[CV] END ....................C=1000.0, gamma=0.3, kernel=rbf; total time=   9.4s\n",
      "[CV] END ....................C=1000.0, gamma=0.3, kernel=rbf; total time=   9.4s\n",
      "[CV] END ....................C=1000.0, gamma=1.0, kernel=rbf; total time=   9.6s\n",
      "[CV] END ....................C=1000.0, gamma=1.0, kernel=rbf; total time=   9.4s\n",
      "[CV] END ....................C=1000.0, gamma=1.0, kernel=rbf; total time=   9.5s\n",
      "[CV] END ....................C=1000.0, gamma=1.0, kernel=rbf; total time=   9.2s\n",
      "[CV] END ....................C=1000.0, gamma=1.0, kernel=rbf; total time=   9.6s\n",
      "[CV] END ....................C=1000.0, gamma=3.0, kernel=rbf; total time=   9.2s\n",
      "[CV] END ....................C=1000.0, gamma=3.0, kernel=rbf; total time=   9.2s\n",
      "[CV] END ....................C=1000.0, gamma=3.0, kernel=rbf; total time=   9.4s\n",
      "[CV] END ....................C=1000.0, gamma=3.0, kernel=rbf; total time=   9.3s\n",
      "[CV] END ....................C=1000.0, gamma=3.0, kernel=rbf; total time=   9.3s\n",
      "Best parameters: {'C': 30000.0, 'kernel': 'linear'}\n",
      "Best estimator: SVR(C=30000.0, kernel='linear')\n"
     ]
    }
   ],
   "source": [
    "from sklearn.model_selection import GridSearchCV\n",
    "\n",
    "param_grid = [\n",
    "        {'kernel': ['linear'], 'C': [10., 30., 100., 300., 1000., 3000., 10000., 30000.0]},\n",
    "        {'kernel': ['rbf'], 'C': [1.0, 3.0, 10., 30., 100., 300., 1000.0],\n",
    "         'gamma': [0.01, 0.03, 0.1, 0.3, 1.0, 3.0]},\n",
    "    ]\n",
    "\n",
    "svm_reg = SVR()\n",
    "grid_search = GridSearchCV(svm_reg, param_grid, cv=5, scoring='neg_mean_squared_error', verbose=2)\n",
    "grid_search.fit(housing_prepared, housing_labels)\n",
    "print(\"Best parameters:\", grid_search.best_params_)\n",
    "print(\"Best estimator:\", grid_search.best_estimator_)\n"
   ]
  },
  {
   "cell_type": "markdown",
   "metadata": {},
   "source": [
    "### random forest regressor"
   ]
  },
  {
   "cell_type": "code",
   "execution_count": 108,
   "metadata": {},
   "outputs": [
    {
     "name": "stdout",
     "output_type": "stream",
     "text": [
      "Best parameters: {'max_features': 8, 'n_estimators': 30}\n",
      "Best estimator: RandomForestRegressor(max_features=8, n_estimators=30, random_state=42)\n"
     ]
    }
   ],
   "source": [
    "from sklearn.model_selection import GridSearchCV\n",
    "\n",
    "param_grid = [\n",
    "    # try 12 (3×4) combinations of hyperparameters\n",
    "    {'n_estimators': [3, 10, 30], 'max_features': [2, 4, 6, 8]},\n",
    "    # then try 6 (2×3) combinations with bootstrap set as False\n",
    "    {'bootstrap': [False], 'n_estimators': [3, 10], 'max_features': [2, 3, 4]},\n",
    "  ]\n",
    "\n",
    "forest_reg = RandomForestRegressor(random_state=42)\n",
    "# train across 5 folds, that's a total of (12+6)*5=90 rounds of training \n",
    "grid_search = GridSearchCV(forest_reg, param_grid, cv=5,\n",
    "                           scoring='neg_mean_squared_error',\n",
    "                           return_train_score=True)\n",
    "grid_search.fit(housing_prepared, housing_labels)\n",
    "print(\"Best parameters for Random forest Tree:\", grid_search.best_params_)\n",
    "print(\"Best estimator for Random forest Tree:\", grid_search.best_estimator_)\n"
   ]
  },
  {
   "cell_type": "markdown",
   "metadata": {},
   "source": [
    "### Linear regressor"
   ]
  },
  {
   "cell_type": "code",
   "execution_count": 109,
   "metadata": {},
   "outputs": [
    {
     "name": "stdout",
     "output_type": "stream",
     "text": [
      "Best parameters for Linear Regression: {'fit_intercept': True}\n",
      "Best estimator for Linear Regression: LinearRegression()\n"
     ]
    }
   ],
   "source": [
    "from sklearn.linear_model import LinearRegression\n",
    "from sklearn.model_selection import GridSearchCV\n",
    "\n",
    "# Hyperparameters to test\n",
    "param_grid = {\n",
    "    'fit_intercept': [True, False]\n",
    "}\n",
    "\n",
    "# Initialize the Linear Regression model\n",
    "lin_reg = LinearRegression()\n",
    "\n",
    "# Grid search with 5-fold cross-validation\n",
    "grid_search = GridSearchCV(lin_reg, param_grid, cv=5, scoring='neg_mean_squared_error', return_train_score=True)\n",
    "\n",
    "# Fit the model\n",
    "grid_search.fit(housing_prepared, housing_labels)\n",
    "\n",
    "# To view the best hyperparameters and estimator\n",
    "print(\"Best parameters for Linear Regression:\", grid_search.best_params_)\n",
    "print(\"Best estimator for Linear Regression:\", grid_search.best_estimator_)\n"
   ]
  },
  {
   "cell_type": "markdown",
   "metadata": {},
   "source": [
    "### decision tree regressor"
   ]
  },
  {
   "cell_type": "code",
   "execution_count": 110,
   "metadata": {},
   "outputs": [
    {
     "name": "stdout",
     "output_type": "stream",
     "text": [
      "Best parameters for Decision Tree: {'max_depth': 10, 'max_features': None, 'min_samples_leaf': 10, 'min_samples_split': 2}\n",
      "Best estimator for Decision Tree: DecisionTreeRegressor(max_depth=10, min_samples_leaf=10, random_state=42)\n"
     ]
    },
    {
     "name": "stderr",
     "output_type": "stream",
     "text": [
      "c:\\Users\\saira\\anaconda3\\Lib\\site-packages\\sklearn\\model_selection\\_validation.py:540: FitFailedWarning: \n",
      "180 fits failed out of a total of 720.\n",
      "The score on these train-test partitions for these parameters will be set to nan.\n",
      "If these failures are not expected, you can try to debug them by setting error_score='raise'.\n",
      "\n",
      "Below are more details about the failures:\n",
      "--------------------------------------------------------------------------------\n",
      "180 fits failed with the following error:\n",
      "Traceback (most recent call last):\n",
      "  File \"c:\\Users\\saira\\anaconda3\\Lib\\site-packages\\sklearn\\model_selection\\_validation.py\", line 888, in _fit_and_score\n",
      "    estimator.fit(X_train, y_train, **fit_params)\n",
      "  File \"c:\\Users\\saira\\anaconda3\\Lib\\site-packages\\sklearn\\base.py\", line 1466, in wrapper\n",
      "    estimator._validate_params()\n",
      "  File \"c:\\Users\\saira\\anaconda3\\Lib\\site-packages\\sklearn\\base.py\", line 666, in _validate_params\n",
      "    validate_parameter_constraints(\n",
      "  File \"c:\\Users\\saira\\anaconda3\\Lib\\site-packages\\sklearn\\utils\\_param_validation.py\", line 95, in validate_parameter_constraints\n",
      "    raise InvalidParameterError(\n",
      "sklearn.utils._param_validation.InvalidParameterError: The 'max_features' parameter of DecisionTreeRegressor must be an int in the range [1, inf), a float in the range (0.0, 1.0], a str among {'sqrt', 'log2'} or None. Got 'auto' instead.\n",
      "\n",
      "  warnings.warn(some_fits_failed_message, FitFailedWarning)\n",
      "c:\\Users\\saira\\anaconda3\\Lib\\site-packages\\sklearn\\model_selection\\_search.py:1102: UserWarning: One or more of the test scores are non-finite: [-5.02844638e+09 -4.43155645e+09 -4.07933870e+09 -3.89733520e+09\n",
      " -3.89733520e+09 -3.69541795e+09 -3.61985029e+09 -3.61985029e+09\n",
      " -3.61985029e+09             nan             nan             nan\n",
      "             nan             nan             nan             nan\n",
      "             nan             nan -5.62396830e+09 -4.81899666e+09\n",
      " -4.64381387e+09 -4.68008299e+09 -4.68008299e+09 -4.07362061e+09\n",
      " -4.27453595e+09 -4.27453595e+09 -4.27453595e+09 -5.62396830e+09\n",
      " -4.81899666e+09 -4.64381387e+09 -4.68008299e+09 -4.68008299e+09\n",
      " -4.07362061e+09 -4.27453595e+09 -4.27453595e+09 -4.27453595e+09\n",
      " -3.93628006e+09 -3.85097728e+09 -3.76975850e+09 -3.65995533e+09\n",
      " -3.65995533e+09 -3.62609025e+09 -3.60837386e+09 -3.60837386e+09\n",
      " -3.60837386e+09             nan             nan             nan\n",
      "             nan             nan             nan             nan\n",
      "             nan             nan -4.71997010e+09 -4.57273055e+09\n",
      " -4.39148616e+09 -4.36653856e+09 -4.36653856e+09 -4.35937150e+09\n",
      " -4.17098622e+09 -4.17098622e+09 -4.17098622e+09 -4.71997010e+09\n",
      " -4.57273055e+09 -4.39148616e+09 -4.36653856e+09 -4.36653856e+09\n",
      " -4.35937150e+09 -4.17098622e+09 -4.17098622e+09 -4.17098622e+09\n",
      " -4.96138976e+09 -4.37803473e+09 -4.05963264e+09 -3.89817406e+09\n",
      " -3.89817406e+09 -3.69761529e+09 -3.61988552e+09 -3.61988552e+09\n",
      " -3.61988552e+09             nan             nan             nan\n",
      "             nan             nan             nan             nan\n",
      "             nan             nan -5.78205502e+09 -4.89146023e+09\n",
      " -4.32470553e+09 -4.45596910e+09 -4.45596910e+09 -4.22709652e+09\n",
      " -4.21441789e+09 -4.21441789e+09 -4.21441789e+09 -5.78205502e+09\n",
      " -4.89146023e+09 -4.32470553e+09 -4.45596910e+09 -4.45596910e+09\n",
      " -4.22709652e+09 -4.21441789e+09 -4.21441789e+09 -4.21441789e+09\n",
      " -5.06441172e+09 -4.42893778e+09 -4.08214386e+09 -3.89733520e+09\n",
      " -3.89733520e+09 -3.69541795e+09 -3.61985029e+09 -3.61985029e+09\n",
      " -3.61985029e+09             nan             nan             nan\n",
      "             nan             nan             nan             nan\n",
      "             nan             nan -5.54066842e+09 -4.81319326e+09\n",
      " -4.64381387e+09 -4.68008299e+09 -4.68008299e+09 -4.07362061e+09\n",
      " -4.27453595e+09 -4.27453595e+09 -4.27453595e+09 -5.54066842e+09\n",
      " -4.81319326e+09 -4.64381387e+09 -4.68008299e+09 -4.68008299e+09\n",
      " -4.07362061e+09 -4.27453595e+09 -4.27453595e+09 -4.27453595e+09]\n",
      "  warnings.warn(\n",
      "c:\\Users\\saira\\anaconda3\\Lib\\site-packages\\sklearn\\model_selection\\_search.py:1102: UserWarning: One or more of the train scores are non-finite: [ 0.00000000e+00 -6.62691792e+08 -1.20629864e+09 -1.14852496e+09\n",
      " -1.14852496e+09 -1.55731566e+09 -1.80337739e+09 -1.80337739e+09\n",
      " -1.80337739e+09             nan             nan             nan\n",
      "             nan             nan             nan             nan\n",
      "             nan             nan  0.00000000e+00 -9.97937421e+08\n",
      " -1.69029101e+09 -1.73912737e+09 -1.73912737e+09 -2.11801472e+09\n",
      " -2.48144094e+09 -2.48144094e+09 -2.48144094e+09  0.00000000e+00\n",
      " -9.97937421e+08 -1.69029101e+09 -1.73912737e+09 -1.73912737e+09\n",
      " -2.11801472e+09 -2.48144094e+09 -2.48144094e+09 -2.48144094e+09\n",
      " -2.06224495e+09 -2.18541170e+09 -2.31345752e+09 -2.26633245e+09\n",
      " -2.26633245e+09 -2.38544094e+09 -2.44636885e+09 -2.44636885e+09\n",
      " -2.44636885e+09             nan             nan             nan\n",
      "             nan             nan             nan             nan\n",
      "             nan             nan -2.84092009e+09 -2.90421177e+09\n",
      " -3.03599265e+09 -2.97890062e+09 -2.97890062e+09 -3.18557836e+09\n",
      " -3.17977434e+09 -3.17977434e+09 -3.17977434e+09 -2.84092009e+09\n",
      " -2.90421177e+09 -3.03599265e+09 -2.97890062e+09 -2.97890062e+09\n",
      " -3.18557836e+09 -3.17977434e+09 -3.17977434e+09 -3.17977434e+09\n",
      " -7.64083999e+07 -7.02385040e+08 -1.22450310e+09 -1.15516945e+09\n",
      " -1.15516945e+09 -1.56042374e+09 -1.80362296e+09 -1.80362296e+09\n",
      " -1.80362296e+09             nan             nan             nan\n",
      "             nan             nan             nan             nan\n",
      "             nan             nan -1.25408158e+08 -1.03726457e+09\n",
      " -1.70928130e+09 -1.71832330e+09 -1.71832330e+09 -2.13344205e+09\n",
      " -2.45891369e+09 -2.45891369e+09 -2.45891369e+09 -1.25408158e+08\n",
      " -1.03726457e+09 -1.70928130e+09 -1.71832330e+09 -1.71832330e+09\n",
      " -2.13344205e+09 -2.45891369e+09 -2.45891369e+09 -2.45891369e+09\n",
      " -2.72509816e+05 -6.62872975e+08 -1.20631497e+09 -1.14852496e+09\n",
      " -1.14852496e+09 -1.55731566e+09 -1.80337739e+09 -1.80337739e+09\n",
      " -1.80337739e+09             nan             nan             nan\n",
      "             nan             nan             nan             nan\n",
      "             nan             nan -3.68902662e+05 -9.99948351e+08\n",
      " -1.69029101e+09 -1.73912737e+09 -1.73912737e+09 -2.11801472e+09\n",
      " -2.48144094e+09 -2.48144094e+09 -2.48144094e+09 -3.68902662e+05\n",
      " -9.99948351e+08 -1.69029101e+09 -1.73912737e+09 -1.73912737e+09\n",
      " -2.11801472e+09 -2.48144094e+09 -2.48144094e+09 -2.48144094e+09]\n",
      "  warnings.warn(\n"
     ]
    }
   ],
   "source": [
    "from sklearn.tree import DecisionTreeRegressor\n",
    "from sklearn.model_selection import GridSearchCV\n",
    "\n",
    "# Hyperparameters to test\n",
    "param_grid = {\n",
    "    'max_depth': [None, 10, 20, 30],\n",
    "    'min_samples_split': [2, 10, 20],\n",
    "    'min_samples_leaf': [1, 5, 10],\n",
    "    'max_features': [None, 'auto', 'sqrt', 'log2']\n",
    "}\n",
    "\n",
    "# Initialize the Decision Tree Regressor model\n",
    "tree_reg = DecisionTreeRegressor(random_state=42)\n",
    "\n",
    "# Grid search with 5-fold cross-validation\n",
    "grid_search = GridSearchCV(tree_reg, param_grid, cv=5, scoring='neg_mean_squared_error', return_train_score=True)\n",
    "\n",
    "# Fit the model\n",
    "grid_search.fit(housing_prepared, housing_labels)\n",
    "\n",
    "# To view the best hyperparameters and estimator\n",
    "print(\"Best parameters for Decision Tree:\", grid_search.best_params_)\n",
    "print(\"Best estimator for Decision Tree:\", grid_search.best_estimator_)\n"
   ]
  },
  {
   "cell_type": "markdown",
   "metadata": {},
   "source": [
    "### Linear Regressor"
   ]
  },
  {
   "cell_type": "code",
   "execution_count": 111,
   "metadata": {},
   "outputs": [
    {
     "name": "stdout",
     "output_type": "stream",
     "text": [
      "Best parameters for Linear Regression from RandomizedSearchCV: {'fit_intercept': True}\n",
      "Best estimator for Linear Regression from RandomizedSearchCV: LinearRegression()\n"
     ]
    }
   ],
   "source": [
    "from sklearn.linear_model import LinearRegression\n",
    "from sklearn.model_selection import RandomizedSearchCV\n",
    "\n",
    "# Hyperparameter distributions\n",
    "param_distribs = {\n",
    "    'fit_intercept': [True, False]\n",
    "}\n",
    "\n",
    "# Initialize Linear Regression\n",
    "lin_reg = LinearRegression()\n",
    "\n",
    "# Randomized Search with 5-fold cross-validation\n",
    "rnd_search = RandomizedSearchCV(lin_reg, param_distributions=param_distribs, n_iter=2, cv=5,\n",
    "                                scoring='neg_mean_squared_error', random_state=42)\n",
    "rnd_search.fit(housing_prepared, housing_labels)\n",
    "\n",
    "# Best parameters and estimator\n",
    "print(\"Best parameters for Linear Regression from RandomizedSearchCV:\", rnd_search.best_params_)\n",
    "print(\"Best estimator for Linear Regression from RandomizedSearchCV:\", rnd_search.best_estimator_)\n"
   ]
  },
  {
   "cell_type": "markdown",
   "metadata": {},
   "source": [
    "### Decision tree"
   ]
  },
  {
   "cell_type": "code",
   "execution_count": 112,
   "metadata": {},
   "outputs": [
    {
     "name": "stdout",
     "output_type": "stream",
     "text": [
      "Best parameters for Decision Tree from RandomizedSearchCV: {'max_depth': 12, 'max_features': 6, 'min_samples_leaf': 6, 'min_samples_split': 3}\n",
      "Best estimator for Decision Tree from RandomizedSearchCV: DecisionTreeRegressor(max_depth=12, max_features=6, min_samples_leaf=6,\n",
      "                      min_samples_split=3, random_state=42)\n"
     ]
    }
   ],
   "source": [
    "from sklearn.tree import DecisionTreeRegressor\n",
    "from sklearn.model_selection import RandomizedSearchCV\n",
    "from scipy.stats import randint\n",
    "\n",
    "# Hyperparameter distributions\n",
    "param_distribs = {\n",
    "    'max_depth': randint(low=1, high=20),  # Depth between 1 and 20\n",
    "    'min_samples_split': randint(low=2, high=20),\n",
    "    'min_samples_leaf': randint(low=1, high=10),\n",
    "    'max_features': randint(low=1, high=8)\n",
    "}\n",
    "\n",
    "# Initialize Decision Tree Regressor\n",
    "tree_reg = DecisionTreeRegressor(random_state=42)\n",
    "\n",
    "# Randomized Search with 5-fold cross-validation\n",
    "rnd_search = RandomizedSearchCV(tree_reg, param_distributions=param_distribs, n_iter=10, cv=5,\n",
    "                                scoring='neg_mean_squared_error', random_state=42)\n",
    "rnd_search.fit(housing_prepared, housing_labels)\n",
    "\n",
    "# Best parameters and estimator\n",
    "print(\"Best parameters for Decision Tree from RandomizedSearchCV:\", rnd_search.best_params_)\n",
    "print(\"Best estimator for Decision Tree from RandomizedSearchCV:\", rnd_search.best_estimator_)\n"
   ]
  },
  {
   "cell_type": "markdown",
   "metadata": {},
   "source": [
    "### SVM"
   ]
  },
  {
   "cell_type": "code",
   "execution_count": 114,
   "metadata": {},
   "outputs": [
    {
     "name": "stdout",
     "output_type": "stream",
     "text": [
      "Best parameters for SVR from RandomizedSearchCV: {'C': 38.454011884736246, 'gamma': 0.9607143064099162, 'kernel': 'linear'}\n",
      "Best estimator for SVR from RandomizedSearchCV: SVR(C=38.454011884736246, gamma=0.9607143064099162, kernel='linear')\n"
     ]
    }
   ],
   "source": [
    "from sklearn.svm import SVR\n",
    "from sklearn.model_selection import RandomizedSearchCV\n",
    "from scipy.stats import uniform\n",
    "\n",
    "# Hyperparameter distributions\n",
    "param_distribs = {\n",
    "    'kernel': ['linear', 'rbf'],\n",
    "    'C': uniform(loc=1, scale=100),  # C values between 1 and 100\n",
    "    'gamma': uniform(loc=0.01, scale=1)  # Gamma values between 0.01 and 1 for 'rbf' kernel\n",
    "}\n",
    "\n",
    "# Initialize SVR\n",
    "svm_reg = SVR()\n",
    "\n",
    "# Randomized Search with 5-fold cross-validation\n",
    "rnd_search = RandomizedSearchCV(svm_reg, param_distributions=param_distribs, n_iter=10, cv=5,\n",
    "                                scoring='neg_mean_squared_error', random_state=42)\n",
    "rnd_search.fit(housing_prepared, housing_labels)\n",
    "\n",
    "# Best parameters and estimator\n",
    "print(\"Best parameters for SVR from RandomizedSearchCV:\", rnd_search.best_params_)\n",
    "print(\"Best estimator for SVR from RandomizedSearchCV:\", rnd_search.best_estimator_)\n"
   ]
  },
  {
   "cell_type": "markdown",
   "metadata": {},
   "source": [
    "### Random tree"
   ]
  },
  {
   "cell_type": "code",
   "execution_count": 132,
   "metadata": {},
   "outputs": [
    {
     "name": "stdout",
     "output_type": "stream",
     "text": [
      "Best parameters: {'max_features': 7, 'n_estimators': 180}\n",
      "Best estimator: RandomForestRegressor(max_features=7, n_estimators=180, random_state=42)\n"
     ]
    }
   ],
   "source": [
    "from sklearn.model_selection import RandomizedSearchCV\n",
    "from scipy.stats import randint\n",
    "\n",
    "param_distribs = {\n",
    "        'n_estimators': randint(low=1, high=200),\n",
    "        'max_features': randint(low=1, high=8),\n",
    "    }\n",
    "\n",
    "forest_reg = RandomForestRegressor(random_state=42)\n",
    "rnd_search = RandomizedSearchCV(forest_reg, param_distributions=param_distribs,\n",
    "                                n_iter=10, cv=5, scoring='neg_mean_squared_error', random_state=42)\n",
    "rnd_search.fit(housing_prepared, housing_labels)\n",
    "print(\"Best parameters:\", rnd_search.best_params_)\n",
    "print(\"Best estimator:\", rnd_search.best_estimator_)"
   ]
  },
  {
   "cell_type": "markdown",
   "metadata": {},
   "source": [
    "# Hyperparameter tuning"
   ]
  },
  {
   "cell_type": "code",
   "execution_count": 125,
   "metadata": {},
   "outputs": [
    {
     "name": "stdout",
     "output_type": "stream",
     "text": [
      "Linear Regression RMSE: 69065.59069601327\n",
      "\n",
      "Decision Tree Grid Search Results:\n",
      "RMSE: 62739.780496000894, Params: {'max_depth': 10, 'min_samples_leaf': 1, 'min_samples_split': 2}\n",
      "RMSE: 62056.24290857084, Params: {'max_depth': 10, 'min_samples_leaf': 1, 'min_samples_split': 10}\n",
      "RMSE: 61398.35911620111, Params: {'max_depth': 10, 'min_samples_leaf': 1, 'min_samples_split': 20}\n",
      "RMSE: 60497.56466451291, Params: {'max_depth': 10, 'min_samples_leaf': 5, 'min_samples_split': 2}\n",
      "RMSE: 60497.56466451291, Params: {'max_depth': 10, 'min_samples_leaf': 5, 'min_samples_split': 10}\n",
      "RMSE: 60217.026269815775, Params: {'max_depth': 10, 'min_samples_leaf': 5, 'min_samples_split': 20}\n",
      "RMSE: 60069.74163012489, Params: {'max_depth': 10, 'min_samples_leaf': 10, 'min_samples_split': 2}\n",
      "RMSE: 60069.74163012489, Params: {'max_depth': 10, 'min_samples_leaf': 10, 'min_samples_split': 10}\n",
      "RMSE: 60069.74163012489, Params: {'max_depth': 10, 'min_samples_leaf': 10, 'min_samples_split': 20}\n",
      "RMSE: 70437.13337621602, Params: {'max_depth': 20, 'min_samples_leaf': 1, 'min_samples_split': 2}\n",
      "RMSE: 66166.71922375867, Params: {'max_depth': 20, 'min_samples_leaf': 1, 'min_samples_split': 10}\n",
      "RMSE: 63715.246540613996, Params: {'max_depth': 20, 'min_samples_leaf': 1, 'min_samples_split': 20}\n",
      "RMSE: 62435.359034485424, Params: {'max_depth': 20, 'min_samples_leaf': 5, 'min_samples_split': 2}\n",
      "RMSE: 62435.359034485424, Params: {'max_depth': 20, 'min_samples_leaf': 5, 'min_samples_split': 10}\n",
      "RMSE: 60808.01995120387, Params: {'max_depth': 20, 'min_samples_leaf': 5, 'min_samples_split': 20}\n",
      "RMSE: 60165.48447029052, Params: {'max_depth': 20, 'min_samples_leaf': 10, 'min_samples_split': 2}\n",
      "RMSE: 60165.48447029052, Params: {'max_depth': 20, 'min_samples_leaf': 10, 'min_samples_split': 10}\n",
      "RMSE: 60165.48447029052, Params: {'max_depth': 20, 'min_samples_leaf': 10, 'min_samples_split': 20}\n",
      "RMSE: 71164.68031890217, Params: {'max_depth': 30, 'min_samples_leaf': 1, 'min_samples_split': 2}\n",
      "RMSE: 66550.26509797896, Params: {'max_depth': 30, 'min_samples_leaf': 1, 'min_samples_split': 10}\n",
      "RMSE: 63891.65716388596, Params: {'max_depth': 30, 'min_samples_leaf': 1, 'min_samples_split': 20}\n",
      "RMSE: 62428.6408397624, Params: {'max_depth': 30, 'min_samples_leaf': 5, 'min_samples_split': 2}\n",
      "RMSE: 62428.6408397624, Params: {'max_depth': 30, 'min_samples_leaf': 5, 'min_samples_split': 10}\n",
      "RMSE: 60789.94944396517, Params: {'max_depth': 30, 'min_samples_leaf': 5, 'min_samples_split': 20}\n",
      "RMSE: 60165.19172241121, Params: {'max_depth': 30, 'min_samples_leaf': 10, 'min_samples_split': 2}\n",
      "RMSE: 60165.19172241121, Params: {'max_depth': 30, 'min_samples_leaf': 10, 'min_samples_split': 10}\n",
      "RMSE: 60165.19172241121, Params: {'max_depth': 30, 'min_samples_leaf': 10, 'min_samples_split': 20}\n",
      "RMSE: 70911.53911695824, Params: {'max_depth': None, 'min_samples_leaf': 1, 'min_samples_split': 2}\n",
      "RMSE: 66569.9365618405, Params: {'max_depth': None, 'min_samples_leaf': 1, 'min_samples_split': 10}\n",
      "RMSE: 63869.70099286739, Params: {'max_depth': None, 'min_samples_leaf': 1, 'min_samples_split': 20}\n",
      "RMSE: 62428.6408397624, Params: {'max_depth': None, 'min_samples_leaf': 5, 'min_samples_split': 2}\n",
      "RMSE: 62428.6408397624, Params: {'max_depth': None, 'min_samples_leaf': 5, 'min_samples_split': 10}\n",
      "RMSE: 60789.94944396517, Params: {'max_depth': None, 'min_samples_leaf': 5, 'min_samples_split': 20}\n",
      "RMSE: 60165.19172241121, Params: {'max_depth': None, 'min_samples_leaf': 10, 'min_samples_split': 2}\n",
      "RMSE: 60165.19172241121, Params: {'max_depth': None, 'min_samples_leaf': 10, 'min_samples_split': 10}\n",
      "RMSE: 60165.19172241121, Params: {'max_depth': None, 'min_samples_leaf': 10, 'min_samples_split': 20}\n",
      "\n",
      "Decision Tree Random Search Results:\n",
      "RMSE: 59247.69021367936, Params: {'max_depth': 39, 'min_samples_leaf': 15, 'min_samples_split': 12}\n",
      "RMSE: 61541.040864358445, Params: {'max_depth': 8, 'min_samples_leaf': 7, 'min_samples_split': 12}\n",
      "RMSE: 60999.443313036325, Params: {'max_depth': 11, 'min_samples_leaf': 4, 'min_samples_split': 9}\n",
      "RMSE: 65583.6654421473, Params: {'max_depth': 24, 'min_samples_leaf': 3, 'min_samples_split': 3}\n",
      "RMSE: 59454.406054408646, Params: {'max_depth': 24, 'min_samples_leaf': 12, 'min_samples_split': 7}\n",
      "RMSE: 82843.87365364736, Params: {'max_depth': 2, 'min_samples_leaf': 1, 'min_samples_split': 13}\n",
      "RMSE: 59454.406054408646, Params: {'max_depth': 22, 'min_samples_leaf': 12, 'min_samples_split': 18}\n",
      "RMSE: 60165.19172241121, Params: {'max_depth': 27, 'min_samples_leaf': 10, 'min_samples_split': 17}\n",
      "RMSE: 59156.083474642524, Params: {'max_depth': 15, 'min_samples_leaf': 15, 'min_samples_split': 13}\n",
      "RMSE: 75687.40458065865, Params: {'max_depth': 3, 'min_samples_leaf': 5, 'min_samples_split': 8}\n",
      "\n",
      "Random Forest Grid Search Results:\n",
      "RMSE: 63895.161577951665, Params: {'max_features': 2, 'n_estimators': 3}\n",
      "RMSE: 54916.32386349543, Params: {'max_features': 2, 'n_estimators': 10}\n",
      "RMSE: 52885.86715332332, Params: {'max_features': 2, 'n_estimators': 30}\n",
      "RMSE: 60075.3680329983, Params: {'max_features': 4, 'n_estimators': 3}\n",
      "RMSE: 52495.01284985185, Params: {'max_features': 4, 'n_estimators': 10}\n",
      "RMSE: 50187.24324926565, Params: {'max_features': 4, 'n_estimators': 30}\n",
      "RMSE: 58064.73529982314, Params: {'max_features': 6, 'n_estimators': 3}\n",
      "RMSE: 51519.32062366315, Params: {'max_features': 6, 'n_estimators': 10}\n",
      "RMSE: 49969.80441627874, Params: {'max_features': 6, 'n_estimators': 30}\n",
      "RMSE: 58895.824998155826, Params: {'max_features': 8, 'n_estimators': 3}\n",
      "RMSE: 52459.79624724529, Params: {'max_features': 8, 'n_estimators': 10}\n",
      "RMSE: 49898.98913455217, Params: {'max_features': 8, 'n_estimators': 30}\n",
      "RMSE: 62381.765106921855, Params: {'bootstrap': False, 'max_features': 2, 'n_estimators': 3}\n",
      "RMSE: 54476.57050944266, Params: {'bootstrap': False, 'max_features': 2, 'n_estimators': 10}\n",
      "RMSE: 59974.60028085155, Params: {'bootstrap': False, 'max_features': 3, 'n_estimators': 3}\n",
      "RMSE: 52754.5632813202, Params: {'bootstrap': False, 'max_features': 3, 'n_estimators': 10}\n",
      "RMSE: 57831.136061214274, Params: {'bootstrap': False, 'max_features': 4, 'n_estimators': 3}\n",
      "RMSE: 51278.37877140253, Params: {'bootstrap': False, 'max_features': 4, 'n_estimators': 10}\n",
      "\n",
      "Random Forest Random Search Results:\n",
      "RMSE: 49117.55344336652, Params: {'max_features': 7, 'n_estimators': 180}\n",
      "RMSE: 51450.63202856348, Params: {'max_features': 5, 'n_estimators': 15}\n",
      "RMSE: 50692.53588182537, Params: {'max_features': 3, 'n_estimators': 72}\n",
      "RMSE: 50783.614493515, Params: {'max_features': 5, 'n_estimators': 21}\n",
      "RMSE: 49162.89877456354, Params: {'max_features': 7, 'n_estimators': 122}\n",
      "RMSE: 50655.798471042704, Params: {'max_features': 3, 'n_estimators': 75}\n",
      "RMSE: 50513.856319990606, Params: {'max_features': 3, 'n_estimators': 88}\n",
      "RMSE: 49521.17201976928, Params: {'max_features': 5, 'n_estimators': 100}\n",
      "RMSE: 50302.90440763418, Params: {'max_features': 3, 'n_estimators': 150}\n",
      "RMSE: 65167.02018649492, Params: {'max_features': 5, 'n_estimators': 2}\n",
      "\n",
      "SVR Grid Search Results:\n",
      "RMSE: 118258.82445795466, Params: {'C': 0.1, 'epsilon': 0.01, 'kernel': 'linear'}\n",
      "RMSE: 118905.81399396772, Params: {'C': 0.1, 'epsilon': 0.01, 'kernel': 'rbf'}\n",
      "RMSE: 118258.82445795466, Params: {'C': 0.1, 'epsilon': 0.1, 'kernel': 'linear'}\n",
      "RMSE: 118905.81399396772, Params: {'C': 0.1, 'epsilon': 0.1, 'kernel': 'rbf'}\n",
      "RMSE: 118258.82445795466, Params: {'C': 0.1, 'epsilon': 0.2, 'kernel': 'linear'}\n",
      "RMSE: 118905.81399396772, Params: {'C': 0.1, 'epsilon': 0.2, 'kernel': 'rbf'}\n",
      "RMSE: 112571.06383924627, Params: {'C': 1, 'epsilon': 0.01, 'kernel': 'linear'}\n",
      "RMSE: 118638.40200558836, Params: {'C': 1, 'epsilon': 0.01, 'kernel': 'rbf'}\n",
      "RMSE: 112571.06378605746, Params: {'C': 1, 'epsilon': 0.1, 'kernel': 'linear'}\n",
      "RMSE: 118638.40200558837, Params: {'C': 1, 'epsilon': 0.1, 'kernel': 'rbf'}\n",
      "RMSE: 112571.06372701384, Params: {'C': 1, 'epsilon': 0.2, 'kernel': 'linear'}\n",
      "RMSE: 118638.40200558836, Params: {'C': 1, 'epsilon': 0.2, 'kernel': 'rbf'}\n",
      "RMSE: 84649.62404010585, Params: {'C': 10, 'epsilon': 0.01, 'kernel': 'linear'}\n",
      "RMSE: 116126.65910048132, Params: {'C': 10, 'epsilon': 0.01, 'kernel': 'rbf'}\n",
      "RMSE: 84649.6069847477, Params: {'C': 10, 'epsilon': 0.1, 'kernel': 'linear'}\n",
      "RMSE: 116126.659130923, Params: {'C': 10, 'epsilon': 0.1, 'kernel': 'rbf'}\n",
      "RMSE: 84649.58803782308, Params: {'C': 10, 'epsilon': 0.2, 'kernel': 'linear'}\n",
      "RMSE: 116126.65916475085, Params: {'C': 10, 'epsilon': 0.2, 'kernel': 'rbf'}\n",
      "\n",
      "SVR Random Search Results:\n",
      "RMSE: 74380.38102082665, Params: {'C': 37.55401188473625, 'epsilon': 0.9607143064099162, 'kernel': 'linear'}\n",
      "RMSE: 101305.46762214639, Params: {'C': 78.06910002727692, 'epsilon': 0.606850157946487, 'kernel': 'rbf'}\n",
      "RMSE: 114618.1803060126, Params: {'C': 15.699452033620265, 'epsilon': 0.06808361216819946, 'kernel': 'rbf'}\n",
      "RMSE: 74905.29326844757, Params: {'C': 33.47086111390219, 'epsilon': 0.1528668179219408, 'kernel': 'linear'}\n",
      "RMSE: 118319.86188635284, Params: {'C': 2.1584494295802448, 'epsilon': 0.9799098521619943, 'kernel': 'rbf'}\n",
      "RMSE: 98908.35732476234, Params: {'C': 93.955270901575, 'epsilon': 0.010778765841014329, 'kernel': 'rbf'}\n",
      "RMSE: 113898.44773944047, Params: {'C': 18.440450985343382, 'epsilon': 0.31424224295953773, 'kernel': 'rbf'}\n",
      "RMSE: 113705.54310527892, Params: {'C': 0.8066305219717406, 'epsilon': 0.03306242504141576, 'kernel': 'linear'}\n",
      "RMSE: 104151.56590273467, Params: {'C': 61.28528947223795, 'epsilon': 0.14949386065204184, 'kernel': 'rbf'}\n",
      "RMSE: 98411.12205724261, Params: {'C': 97.47555188414591, 'epsilon': 0.24277134043030424, 'kernel': 'rbf'}\n"
     ]
    }
   ],
   "source": [
    "from sklearn.model_selection import GridSearchCV, RandomizedSearchCV, cross_val_score\n",
    "from sklearn.ensemble import RandomForestRegressor\n",
    "from sklearn.linear_model import LinearRegression\n",
    "from sklearn.tree import DecisionTreeRegressor\n",
    "from sklearn.svm import SVR\n",
    "from scipy.stats import randint, uniform\n",
    "import numpy as np\n",
    "\n",
    "# Assuming `housing_prepared` is the feature matrix and `housing_labels` are the target labels\n",
    "\n",
    "### 1. Linear Regression (No hyperparameter tuning needed for Linear Regression)\n",
    "lin_reg = LinearRegression()\n",
    "lin_reg.fit(housing_prepared, housing_labels)\n",
    "\n",
    "# Evaluate Linear Regression directly\n",
    "lin_reg_rmse = np.sqrt(-cross_val_score(lin_reg, housing_prepared, housing_labels, scoring='neg_mean_squared_error', cv=5))\n",
    "print(\"Linear Regression RMSE:\", lin_reg_rmse.mean())\n",
    "\n",
    "### 2. Decision Tree Regressor\n",
    "# Grid Search for Decision Tree Regressor\n",
    "param_grid_tree = [\n",
    "    {'max_depth': [10, 20, 30, None], \n",
    "     'min_samples_split': [2, 10, 20], \n",
    "     'min_samples_leaf': [1, 5, 10]},\n",
    "]\n",
    "\n",
    "tree_reg = DecisionTreeRegressor(random_state=42)\n",
    "grid_search_tree = GridSearchCV(tree_reg, param_grid_tree, cv=5,\n",
    "                                scoring='neg_mean_squared_error', return_train_score=True)\n",
    "grid_search_tree.fit(housing_prepared, housing_labels)\n",
    "\n",
    "print(\"\\nDecision Tree Grid Search Results:\")\n",
    "cvres_tree = grid_search_tree.cv_results_\n",
    "for mean_score, params in zip(cvres_tree[\"mean_test_score\"], cvres_tree[\"params\"]):\n",
    "    print(f\"RMSE: {np.sqrt(-mean_score)}, Params: {params}\")\n",
    "\n",
    "# Randomized Search for Decision Tree Regressor\n",
    "param_distribs_tree = {\n",
    "    'max_depth': randint(low=1, high=50),\n",
    "    'min_samples_split': randint(low=2, high=20),\n",
    "    'min_samples_leaf': randint(low=1, high=20),\n",
    "}\n",
    "\n",
    "rnd_search_tree = RandomizedSearchCV(tree_reg, param_distributions=param_distribs_tree,\n",
    "                                     n_iter=10, cv=5, scoring='neg_mean_squared_error', random_state=42)\n",
    "rnd_search_tree.fit(housing_prepared, housing_labels)\n",
    "\n",
    "print(\"\\nDecision Tree Random Search Results:\")\n",
    "cvres_rnd_tree = rnd_search_tree.cv_results_\n",
    "for mean_score, params in zip(cvres_rnd_tree[\"mean_test_score\"], cvres_rnd_tree[\"params\"]):\n",
    "    print(f\"RMSE: {np.sqrt(-mean_score)}, Params: {params}\")\n",
    "\n",
    "### 3. Random Forest Regressor\n",
    "# Grid Search for Random Forest Regressor\n",
    "param_grid_forest = [\n",
    "    {'n_estimators': [3, 10, 30], 'max_features': [2, 4, 6, 8]},\n",
    "    {'bootstrap': [False], 'n_estimators': [3, 10], 'max_features': [2, 3, 4]},\n",
    "]\n",
    "\n",
    "forest_reg = RandomForestRegressor(random_state=42)\n",
    "grid_search_forest = GridSearchCV(forest_reg, param_grid_forest, cv=5,\n",
    "                                  scoring='neg_mean_squared_error', return_train_score=True)\n",
    "grid_search_forest.fit(housing_prepared, housing_labels)\n",
    "\n",
    "print(\"\\nRandom Forest Grid Search Results:\")\n",
    "cvres_forest = grid_search_forest.cv_results_\n",
    "for mean_score, params in zip(cvres_forest[\"mean_test_score\"], cvres_forest[\"params\"]):\n",
    "    print(f\"RMSE: {np.sqrt(-mean_score)}, Params: {params}\")\n",
    "\n",
    "# Randomized Search for Random Forest Regressor\n",
    "param_distribs_forest = {\n",
    "    'n_estimators': randint(low=1, high=200),\n",
    "    'max_features': randint(low=1, high=8),\n",
    "}\n",
    "\n",
    "rnd_search_forest = RandomizedSearchCV(forest_reg, param_distributions=param_distribs_forest,\n",
    "                                       n_iter=10, cv=5, scoring='neg_mean_squared_error', random_state=42)\n",
    "rnd_search_forest.fit(housing_prepared, housing_labels)\n",
    "\n",
    "print(\"\\nRandom Forest Random Search Results:\")\n",
    "cvres_rnd_forest = rnd_search_forest.cv_results_\n",
    "for mean_score, params in zip(cvres_rnd_forest[\"mean_test_score\"], cvres_rnd_forest[\"params\"]):\n",
    "    print(f\"RMSE: {np.sqrt(-mean_score)}, Params: {params}\")\n",
    "\n",
    "### 4. Support Vector Machine Regressor (SVR)\n",
    "# Grid Search for SVR\n",
    "param_grid_svr = [\n",
    "    {'kernel': ['linear', 'rbf'], \n",
    "     'C': [0.1, 1, 10], \n",
    "     'epsilon': [0.01, 0.1, 0.2]},\n",
    "]\n",
    "\n",
    "svr_reg = SVR()\n",
    "grid_search_svr = GridSearchCV(svr_reg, param_grid_svr, cv=5,\n",
    "                               scoring='neg_mean_squared_error', return_train_score=True)\n",
    "grid_search_svr.fit(housing_prepared, housing_labels)\n",
    "\n",
    "print(\"\\nSVR Grid Search Results:\")\n",
    "cvres_svr = grid_search_svr.cv_results_\n",
    "for mean_score, params in zip(cvres_svr[\"mean_test_score\"], cvres_svr[\"params\"]):\n",
    "    print(f\"RMSE: {np.sqrt(-mean_score)}, Params: {params}\")\n",
    "\n",
    "# Randomized Search for SVR\n",
    "param_distribs_svr = {\n",
    "    'C': uniform(0.1, 100),\n",
    "    'epsilon': uniform(0.01, 1),\n",
    "    'kernel': ['linear', 'rbf'],\n",
    "}\n",
    "\n",
    "rnd_search_svr = RandomizedSearchCV(svr_reg, param_distributions=param_distribs_svr,\n",
    "                                    n_iter=10, cv=5, scoring='neg_mean_squared_error', random_state=42)\n",
    "rnd_search_svr.fit(housing_prepared, housing_labels)\n",
    "\n",
    "print(\"\\nSVR Random Search Results:\")\n",
    "cvres_rnd_svr = rnd_search_svr.cv_results_\n",
    "for mean_score, params in zip(cvres_rnd_svr[\"mean_test_score\"], cvres_rnd_svr[\"params\"]):\n",
    "    print(f\"RMSE: {np.sqrt(-mean_score)}, Params: {params}\")\n"
   ]
  },
  {
   "cell_type": "markdown",
   "metadata": {},
   "source": [
    "# Results and analysis"
   ]
  },
  {
   "cell_type": "code",
   "execution_count": 133,
   "metadata": {},
   "outputs": [
    {
     "data": {
      "image/png": "[encoded data removed]",
      "text/plain": [
       "<Figure size 1000x600 with 1 Axes>"
      ]
     },
     "metadata": {},
     "output_type": "display_data"
    }
   ],
   "source": [
    "import matplotlib.pyplot as plt\n",
    "import seaborn as sns\n",
    "import pandas as pd\n",
    "\n",
    "# RMSE results for each model\n",
    "rmse_values = {\n",
    "    'Linear Regression(no params)': [69065.59],\n",
    "    'Decision Tree (Grid Search)': [\n",
    "        62739.78, 62056.24, 61398.36, 60497.56, 60217.03, 60069.74, 70437.13,\n",
    "        66166.72, 63715.25, 62435.36, 60808.02, 60165.48, 70911.54, 66569.94, \n",
    "        63869.70, 60165.19, 60165.19, 60165.19\n",
    "    ],\n",
    "    'Decision Tree (Random Search)': [\n",
    "        59247.69, 61541.04, 60999.44, 65583.67, 59454.41, 82843.87, 75687.40\n",
    "    ],\n",
    "    'Random Forest (Grid Search)': [\n",
    "        63895.16, 54916.32, 52885.87, 60075.37, 52495.01, 50187.24, 58064.74, \n",
    "        51519.32, 49969.80, 58895.82, 52459.80, 49898.99\n",
    "    ],\n",
    "    'Random Forest (Random Search)': [\n",
    "        49117.55, 51450.63, 50692.54, 50783.61, 49162.90, 50655.80, 50513.86, \n",
    "        49521.17, 50302.90, 65167.02\n",
    "    ],\n",
    "    'SVR (Grid Search)': [\n",
    "        118258.82, 118905.81, 112571.06, 118638.40, 84649.62, 116126.66\n",
    "    ],\n",
    "    'SVR (Random Search)': [\n",
    "        74380.38, 101305.47, 114618.18, 74905.29, 118319.86, 98908.36\n",
    "    ]\n",
    "}\n",
    "\n",
    "# Prepare data for plotting\n",
    "data = []\n",
    "for model, rmse_list in rmse_values.items():\n",
    "    for rmse in rmse_list:\n",
    "        data.append([model, rmse])\n",
    "\n",
    "df = pd.DataFrame(data, columns=['Model', 'RMSE'])\n",
    "\n",
    "# Create the boxplot\n",
    "plt.figure(figsize=(10, 6))\n",
    "sns.boxplot(x='Model', y='RMSE', data=df)\n",
    "plt.xticks(rotation=45)\n",
    "plt.title('RMSE Boxplot for Regression Models')\n",
    "plt.tight_layout()\n",
    "\n",
    "# Show plot\n",
    "plt.show()\n"
   ]
  },
  {
   "cell_type": "markdown",
   "metadata": {},
   "source": [
    "### Evaluating the test set with best model"
   ]
  },
  {
   "cell_type": "code",
   "execution_count": 136,
   "metadata": {},
   "outputs": [
    {
     "name": "stdout",
     "output_type": "stream",
     "text": [
      "Best Model: RandomForestRegressor\n",
      "Final RMSE on the test set: 46981.841079394515\n"
     ]
    }
   ],
   "source": [
    "from sklearn.metrics import mean_squared_error\n",
    "import numpy as np\n",
    "\n",
    "# Get the best model from Hyperparameter tuning\n",
    "final_model = rnd_search.best_estimator_\n",
    "\n",
    "# Prepare the test set\n",
    "X_test = strat_test_set.drop(\"median_house_value\", axis=1)\n",
    "y_test = strat_test_set[\"median_house_value\"].copy()\n",
    "\n",
    "# Apply the same transformations to the test set as the training set\n",
    "X_test_prepared = full_pipeline.transform(X_test)\n",
    "\n",
    "# Make predictions on the test set using the best model\n",
    "final_predictions = final_model.predict(X_test_prepared)\n",
    "\n",
    "# Calculate the MSE and RMSE for the test set\n",
    "final_mse = mean_squared_error(y_test, final_predictions)\n",
    "final_rmse = np.sqrt(final_mse)\n",
    "\n",
    "# Output the model name and the RMSE value\n",
    "print(\"Best Model:\", final_model.__class__.__name__)\n",
    "print(\"Final RMSE on the test set:\", final_rmse)\n",
    "\n"
   ]
  }
 ],
 "metadata": {
  "kernelspec": {
   "display_name": "base",
   "language": "python",
   "name": "python3"
  },
  "language_info": {
   "codemirror_mode": {
    "name": "ipython",
    "version": 3
   },
   "file_extension": ".py",
   "mimetype": "text/x-python",
   "name": "python",
   "nbconvert_exporter": "python",
   "pygments_lexer": "ipython3",
   "version": "3.12.4"
  }
 },
 "nbformat": 4,
 "nbformat_minor": 2
}
